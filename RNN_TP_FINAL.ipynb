{
  "cells": [
    {
      "cell_type": "markdown",
      "metadata": {
        "id": "view-in-github",
        "colab_type": "text"
      },
      "source": [
        "<a href=\"https://colab.research.google.com/github/Alan-B525/TP_FINAL_IC2022/blob/main/RNN_TP_FINAL.ipynb\" target=\"_parent\"><img src=\"https://colab.research.google.com/assets/colab-badge.svg\" alt=\"Open In Colab\"/></a>"
      ]
    },
    {
      "cell_type": "markdown",
      "metadata": {
        "id": "Q3Gh7Glmiody"
      },
      "source": [
        "# Redes Neuronales Recurrentes"
      ]
    },
    {
      "cell_type": "code",
      "execution_count": 1,
      "metadata": {
        "id": "mBWYZgoxiod8"
      },
      "outputs": [],
      "source": [
        "import pandas as pd\n",
        "import numpy as np\n",
        "import matplotlib.pyplot as plt\n",
        "from sklearn.preprocessing import MinMaxScaler\n"
      ]
    },
    {
      "cell_type": "markdown",
      "metadata": {
        "id": "YEVWkONUioeB"
      },
      "source": [
        "# Preprocesado de datos"
      ]
    },
    {
      "cell_type": "markdown",
      "source": [
        "Funcion para preprocesamiento de los dataset"
      ],
      "metadata": {
        "id": "GEKJKwM3UABq"
      }
    },
    {
      "cell_type": "code",
      "source": [
        "scaler = MinMaxScaler( feature_range=(0, 1) )\n",
        "\n",
        "ve = 120\n"
      ],
      "metadata": {
        "id": "yJ8V9I09YCnF"
      },
      "execution_count": 2,
      "outputs": []
    },
    {
      "cell_type": "code",
      "source": [
        "\n",
        "def preprocessing(data):\n",
        "  data = data.drop(['Date','Adj Close'], axis=1)\n",
        "  data = data.round(2)\n",
        "\n",
        "  #transform dataframe to numpy array\n",
        "  data = data.values\n",
        "\n",
        "  #normalize data\n",
        "  data = scaler.fit_transform(data)\n",
        "\n",
        "  X_train = []\n",
        "  y_train = []\n",
        "\n",
        "  for i in range(ve, len(data)):\n",
        "      X_train.append(data[i-ve:i, :])\n",
        "      y_train.append(data[i, 0])\n",
        " \n",
        "  X_train, y_train = np.array(X_train), np.array(y_train)\n",
        "  \n",
        "\n",
        "\n",
        "  return X_train, y_train"
      ],
      "metadata": {
        "id": "Y_aodGU4rpoW"
      },
      "execution_count": 3,
      "outputs": []
    },
    {
      "cell_type": "code",
      "source": [
        "#importar datos\n",
        "dataset_train = pd.read_csv('NASDAQ_train.csv')\n",
        "\n",
        "#se llama la funcion de procesamiento\n",
        "X_train, y_train = preprocessing(dataset_train)\n"
      ],
      "metadata": {
        "id": "cxzQ-6tlUXkr"
      },
      "execution_count": 4,
      "outputs": []
    },
    {
      "cell_type": "markdown",
      "metadata": {
        "id": "KTUOu3NCioec"
      },
      "source": [
        "# Construcción de la RNN"
      ]
    },
    {
      "cell_type": "code",
      "execution_count": 5,
      "metadata": {
        "id": "ibrjxfB_ioed"
      },
      "outputs": [],
      "source": [
        "from keras.models import Sequential\n",
        "from keras.layers import Dense, LSTM, Dropout"
      ]
    },
    {
      "cell_type": "markdown",
      "metadata": {
        "id": "MgWyCQaEioee"
      },
      "source": [
        "### Inicialización del la red"
      ]
    },
    {
      "cell_type": "code",
      "execution_count": 6,
      "metadata": {
        "id": "9ua2SgRKioef"
      },
      "outputs": [],
      "source": [
        "regressor = Sequential()"
      ]
    },
    {
      "cell_type": "markdown",
      "metadata": {
        "id": "zFO8ae4eioeg"
      },
      "source": [
        "### Añadir las capas  LSTM y  regularización por Dropout"
      ]
    },
    {
      "cell_type": "code",
      "execution_count": 7,
      "metadata": {
        "id": "S3R89dKvioei"
      },
      "outputs": [],
      "source": [
        "regressor.add(LSTM(units=60, return_sequences=True, input_shape=(X_train.shape[1], X_train.shape[2])))\n",
        "regressor.add(Dropout(rate=0.2))\n",
        "regressor.add(LSTM(units=60, return_sequences=True))\n",
        "regressor.add(Dropout(rate=0.2))\n",
        "regressor.add(LSTM(units=60, return_sequences=True))\n",
        "regressor.add(Dropout(rate=0.2))\n",
        "regressor.add(LSTM(units=60, return_sequences=True))\n",
        "regressor.add(Dropout(rate=0.2))\n",
        "regressor.add(LSTM(units=60, return_sequences=True))\n",
        "regressor.add(Dropout(rate=0.2))\n",
        "regressor.add(LSTM(units=60, return_sequences=True))\n",
        "regressor.add(Dropout(rate=0.2))\n",
        "regressor.add(LSTM(units=60, return_sequences=True))\n",
        "regressor.add(Dropout(rate=0.2))\n",
        "regressor.add(LSTM(units=60, return_sequences=False))\n",
        "regressor.add(Dropout(rate=0.2))"
      ]
    },
    {
      "cell_type": "markdown",
      "metadata": {
        "id": "Nu7uyNG1ioej"
      },
      "source": [
        "### Añadir la capa de salida"
      ]
    },
    {
      "cell_type": "code",
      "execution_count": 8,
      "metadata": {
        "id": "21LOxGSjioej"
      },
      "outputs": [],
      "source": [
        "regressor.add(Dense(units=1))"
      ]
    },
    {
      "cell_type": "markdown",
      "metadata": {
        "id": "iUQ-3gCZioek"
      },
      "source": [
        "### Compilar la RNN "
      ]
    },
    {
      "cell_type": "code",
      "execution_count": 9,
      "metadata": {
        "id": "RrFiCX9_ioel"
      },
      "outputs": [],
      "source": [
        "regressor.compile(optimizer='adam', loss='mean_squared_error')"
      ]
    },
    {
      "cell_type": "markdown",
      "metadata": {
        "id": "FoGd3wdOioel"
      },
      "source": [
        "### Entrenamiento de la Red Neuronal Recurrente"
      ]
    },
    {
      "cell_type": "code",
      "execution_count": 10,
      "metadata": {
        "scrolled": false,
        "id": "FO2uY8DQioem",
        "outputId": "4aca067a-535a-486a-e69d-e55341aee124",
        "colab": {
          "base_uri": "https://localhost:8080/"
        }
      },
      "outputs": [
        {
          "output_type": "execute_result",
          "data": {
            "text/plain": [
              "<keras.callbacks.History at 0x7fc6f636a850>"
            ]
          },
          "metadata": {},
          "execution_count": 10
        }
      ],
      "source": [
        "regressor.fit(X_train, y_train, epochs=50, batch_size=32, verbose=False)"
      ]
    },
    {
      "cell_type": "markdown",
      "metadata": {
        "id": "Xov-a2q_ioeo"
      },
      "source": [
        "# Predecir el valor de las acciones"
      ]
    },
    {
      "cell_type": "markdown",
      "metadata": {
        "id": "yC2Kpqrkioem"
      },
      "source": [
        "## Obtener el valor real de las acciones desde enero 22 a mayo 22\n"
      ]
    },
    {
      "cell_type": "code",
      "execution_count": 11,
      "metadata": {
        "id": "E2scRi3Wioen",
        "colab": {
          "base_uri": "https://localhost:8080/",
          "height": 424
        },
        "outputId": "18d99ad0-ebd2-42ae-8541-72cadd3f8409"
      },
      "outputs": [
        {
          "output_type": "execute_result",
          "data": {
            "text/plain": [
              "           Date       Open       High        Low      Close  Adj Close  \\\n",
              "0    2009-01-02   3.067143   3.251429   3.041429   3.241071   2.771174   \n",
              "1    2009-01-05   3.327500   3.435000   3.311071   3.377857   2.888128   \n",
              "2    2009-01-06   3.426786   3.470357   3.299643   3.322143   2.840492   \n",
              "3    2009-01-07   3.278929   3.303571   3.223571   3.250357   2.779114   \n",
              "4    2009-01-08   3.229643   3.326786   3.215714   3.310714   2.830720   \n",
              "..          ...        ...        ...        ...        ...        ...   \n",
              "994  2012-12-13  18.969643  19.201429  18.778570  18.917500  16.318443   \n",
              "995  2012-12-14  18.383928  18.504642  18.056429  18.206785  15.705369   \n",
              "996  2012-12-17  18.176071  18.571428  17.901072  18.529642  15.983872   \n",
              "997  2012-12-18  18.750000  19.103571  18.580357  19.067858  16.448141   \n",
              "998  2012-12-19  18.981071  19.060715  18.767857  18.796785  16.214312   \n",
              "\n",
              "         Volume  \n",
              "0     746015200  \n",
              "1    1181608400  \n",
              "2    1289310400  \n",
              "3     753048800  \n",
              "4     673500800  \n",
              "..          ...  \n",
              "994   625259600  \n",
              "995  1009579200  \n",
              "996   757607200  \n",
              "997   625685200  \n",
              "998   449369200  \n",
              "\n",
              "[999 rows x 7 columns]"
            ],
            "text/html": [
              "\n",
              "  <div id=\"df-981ed9a4-95e4-49e9-9d6b-ea2ace8a8299\">\n",
              "    <div class=\"colab-df-container\">\n",
              "      <div>\n",
              "<style scoped>\n",
              "    .dataframe tbody tr th:only-of-type {\n",
              "        vertical-align: middle;\n",
              "    }\n",
              "\n",
              "    .dataframe tbody tr th {\n",
              "        vertical-align: top;\n",
              "    }\n",
              "\n",
              "    .dataframe thead th {\n",
              "        text-align: right;\n",
              "    }\n",
              "</style>\n",
              "<table border=\"1\" class=\"dataframe\">\n",
              "  <thead>\n",
              "    <tr style=\"text-align: right;\">\n",
              "      <th></th>\n",
              "      <th>Date</th>\n",
              "      <th>Open</th>\n",
              "      <th>High</th>\n",
              "      <th>Low</th>\n",
              "      <th>Close</th>\n",
              "      <th>Adj Close</th>\n",
              "      <th>Volume</th>\n",
              "    </tr>\n",
              "  </thead>\n",
              "  <tbody>\n",
              "    <tr>\n",
              "      <th>0</th>\n",
              "      <td>2009-01-02</td>\n",
              "      <td>3.067143</td>\n",
              "      <td>3.251429</td>\n",
              "      <td>3.041429</td>\n",
              "      <td>3.241071</td>\n",
              "      <td>2.771174</td>\n",
              "      <td>746015200</td>\n",
              "    </tr>\n",
              "    <tr>\n",
              "      <th>1</th>\n",
              "      <td>2009-01-05</td>\n",
              "      <td>3.327500</td>\n",
              "      <td>3.435000</td>\n",
              "      <td>3.311071</td>\n",
              "      <td>3.377857</td>\n",
              "      <td>2.888128</td>\n",
              "      <td>1181608400</td>\n",
              "    </tr>\n",
              "    <tr>\n",
              "      <th>2</th>\n",
              "      <td>2009-01-06</td>\n",
              "      <td>3.426786</td>\n",
              "      <td>3.470357</td>\n",
              "      <td>3.299643</td>\n",
              "      <td>3.322143</td>\n",
              "      <td>2.840492</td>\n",
              "      <td>1289310400</td>\n",
              "    </tr>\n",
              "    <tr>\n",
              "      <th>3</th>\n",
              "      <td>2009-01-07</td>\n",
              "      <td>3.278929</td>\n",
              "      <td>3.303571</td>\n",
              "      <td>3.223571</td>\n",
              "      <td>3.250357</td>\n",
              "      <td>2.779114</td>\n",
              "      <td>753048800</td>\n",
              "    </tr>\n",
              "    <tr>\n",
              "      <th>4</th>\n",
              "      <td>2009-01-08</td>\n",
              "      <td>3.229643</td>\n",
              "      <td>3.326786</td>\n",
              "      <td>3.215714</td>\n",
              "      <td>3.310714</td>\n",
              "      <td>2.830720</td>\n",
              "      <td>673500800</td>\n",
              "    </tr>\n",
              "    <tr>\n",
              "      <th>...</th>\n",
              "      <td>...</td>\n",
              "      <td>...</td>\n",
              "      <td>...</td>\n",
              "      <td>...</td>\n",
              "      <td>...</td>\n",
              "      <td>...</td>\n",
              "      <td>...</td>\n",
              "    </tr>\n",
              "    <tr>\n",
              "      <th>994</th>\n",
              "      <td>2012-12-13</td>\n",
              "      <td>18.969643</td>\n",
              "      <td>19.201429</td>\n",
              "      <td>18.778570</td>\n",
              "      <td>18.917500</td>\n",
              "      <td>16.318443</td>\n",
              "      <td>625259600</td>\n",
              "    </tr>\n",
              "    <tr>\n",
              "      <th>995</th>\n",
              "      <td>2012-12-14</td>\n",
              "      <td>18.383928</td>\n",
              "      <td>18.504642</td>\n",
              "      <td>18.056429</td>\n",
              "      <td>18.206785</td>\n",
              "      <td>15.705369</td>\n",
              "      <td>1009579200</td>\n",
              "    </tr>\n",
              "    <tr>\n",
              "      <th>996</th>\n",
              "      <td>2012-12-17</td>\n",
              "      <td>18.176071</td>\n",
              "      <td>18.571428</td>\n",
              "      <td>17.901072</td>\n",
              "      <td>18.529642</td>\n",
              "      <td>15.983872</td>\n",
              "      <td>757607200</td>\n",
              "    </tr>\n",
              "    <tr>\n",
              "      <th>997</th>\n",
              "      <td>2012-12-18</td>\n",
              "      <td>18.750000</td>\n",
              "      <td>19.103571</td>\n",
              "      <td>18.580357</td>\n",
              "      <td>19.067858</td>\n",
              "      <td>16.448141</td>\n",
              "      <td>625685200</td>\n",
              "    </tr>\n",
              "    <tr>\n",
              "      <th>998</th>\n",
              "      <td>2012-12-19</td>\n",
              "      <td>18.981071</td>\n",
              "      <td>19.060715</td>\n",
              "      <td>18.767857</td>\n",
              "      <td>18.796785</td>\n",
              "      <td>16.214312</td>\n",
              "      <td>449369200</td>\n",
              "    </tr>\n",
              "  </tbody>\n",
              "</table>\n",
              "<p>999 rows × 7 columns</p>\n",
              "</div>\n",
              "      <button class=\"colab-df-convert\" onclick=\"convertToInteractive('df-981ed9a4-95e4-49e9-9d6b-ea2ace8a8299')\"\n",
              "              title=\"Convert this dataframe to an interactive table.\"\n",
              "              style=\"display:none;\">\n",
              "        \n",
              "  <svg xmlns=\"http://www.w3.org/2000/svg\" height=\"24px\"viewBox=\"0 0 24 24\"\n",
              "       width=\"24px\">\n",
              "    <path d=\"M0 0h24v24H0V0z\" fill=\"none\"/>\n",
              "    <path d=\"M18.56 5.44l.94 2.06.94-2.06 2.06-.94-2.06-.94-.94-2.06-.94 2.06-2.06.94zm-11 1L8.5 8.5l.94-2.06 2.06-.94-2.06-.94L8.5 2.5l-.94 2.06-2.06.94zm10 10l.94 2.06.94-2.06 2.06-.94-2.06-.94-.94-2.06-.94 2.06-2.06.94z\"/><path d=\"M17.41 7.96l-1.37-1.37c-.4-.4-.92-.59-1.43-.59-.52 0-1.04.2-1.43.59L10.3 9.45l-7.72 7.72c-.78.78-.78 2.05 0 2.83L4 21.41c.39.39.9.59 1.41.59.51 0 1.02-.2 1.41-.59l7.78-7.78 2.81-2.81c.8-.78.8-2.07 0-2.86zM5.41 20L4 18.59l7.72-7.72 1.47 1.35L5.41 20z\"/>\n",
              "  </svg>\n",
              "      </button>\n",
              "      \n",
              "  <style>\n",
              "    .colab-df-container {\n",
              "      display:flex;\n",
              "      flex-wrap:wrap;\n",
              "      gap: 12px;\n",
              "    }\n",
              "\n",
              "    .colab-df-convert {\n",
              "      background-color: #E8F0FE;\n",
              "      border: none;\n",
              "      border-radius: 50%;\n",
              "      cursor: pointer;\n",
              "      display: none;\n",
              "      fill: #1967D2;\n",
              "      height: 32px;\n",
              "      padding: 0 0 0 0;\n",
              "      width: 32px;\n",
              "    }\n",
              "\n",
              "    .colab-df-convert:hover {\n",
              "      background-color: #E2EBFA;\n",
              "      box-shadow: 0px 1px 2px rgba(60, 64, 67, 0.3), 0px 1px 3px 1px rgba(60, 64, 67, 0.15);\n",
              "      fill: #174EA6;\n",
              "    }\n",
              "\n",
              "    [theme=dark] .colab-df-convert {\n",
              "      background-color: #3B4455;\n",
              "      fill: #D2E3FC;\n",
              "    }\n",
              "\n",
              "    [theme=dark] .colab-df-convert:hover {\n",
              "      background-color: #434B5C;\n",
              "      box-shadow: 0px 1px 3px 1px rgba(0, 0, 0, 0.15);\n",
              "      filter: drop-shadow(0px 1px 2px rgba(0, 0, 0, 0.3));\n",
              "      fill: #FFFFFF;\n",
              "    }\n",
              "  </style>\n",
              "\n",
              "      <script>\n",
              "        const buttonEl =\n",
              "          document.querySelector('#df-981ed9a4-95e4-49e9-9d6b-ea2ace8a8299 button.colab-df-convert');\n",
              "        buttonEl.style.display =\n",
              "          google.colab.kernel.accessAllowed ? 'block' : 'none';\n",
              "\n",
              "        async function convertToInteractive(key) {\n",
              "          const element = document.querySelector('#df-981ed9a4-95e4-49e9-9d6b-ea2ace8a8299');\n",
              "          const dataTable =\n",
              "            await google.colab.kernel.invokeFunction('convertToInteractive',\n",
              "                                                     [key], {});\n",
              "          if (!dataTable) return;\n",
              "\n",
              "          const docLinkHtml = 'Like what you see? Visit the ' +\n",
              "            '<a target=\"_blank\" href=https://colab.research.google.com/notebooks/data_table.ipynb>data table notebook</a>'\n",
              "            + ' to learn more about interactive tables.';\n",
              "          element.innerHTML = '';\n",
              "          dataTable['output_type'] = 'display_data';\n",
              "          await google.colab.output.renderOutput(dataTable, element);\n",
              "          const docLink = document.createElement('div');\n",
              "          docLink.innerHTML = docLinkHtml;\n",
              "          element.appendChild(docLink);\n",
              "        }\n",
              "      </script>\n",
              "    </div>\n",
              "  </div>\n",
              "  "
            ]
          },
          "metadata": {},
          "execution_count": 11
        }
      ],
      "source": [
        "\n",
        "dataset_test = pd.read_csv('aapl_test.csv')\n",
        "\n",
        "dataset_test\n"
      ]
    },
    {
      "cell_type": "code",
      "source": [
        "X_test, y_test = preprocessing(dataset_test)\n",
        "\n",
        "real_stock_price = dataset_test.loc[ve:, ['Open']].values.round(2)"
      ],
      "metadata": {
        "id": "xtL26UMZzvqi"
      },
      "execution_count": 12,
      "outputs": []
    },
    {
      "cell_type": "markdown",
      "metadata": {
        "id": "HG3CtAERioet"
      },
      "source": [
        "Realizamos la predicción."
      ]
    },
    {
      "cell_type": "code",
      "source": [
        "# Prediccion de los valores del mes de enero \n",
        "predicted_stock_price = regressor.predict(X_test)\n"
      ],
      "metadata": {
        "id": "k6nAsrmh4IXA"
      },
      "execution_count": 13,
      "outputs": []
    },
    {
      "cell_type": "markdown",
      "source": [
        "#Transformación de los precios"
      ],
      "metadata": {
        "id": "rwDNCUfeE5QL"
      }
    },
    {
      "cell_type": "code",
      "execution_count": 14,
      "metadata": {
        "id": "TER1WS_Dioet"
      },
      "outputs": [],
      "source": [
        "price_t = []\n",
        "\n",
        "for i in range(len(predicted_stock_price)):\n",
        "    x = (predicted_stock_price[i,0]*(scaler.data_max_[0]-scaler.data_min_[0]))+scaler.data_min_[0]\n",
        "    price_t.append(x)\n"
      ]
    },
    {
      "cell_type": "markdown",
      "metadata": {
        "id": "_qIJPorcioeu"
      },
      "source": [
        "# Visualizar los resultados"
      ]
    },
    {
      "cell_type": "code",
      "execution_count": 15,
      "metadata": {
        "id": "_kTOpg4gioeu",
        "outputId": "81435c70-fd98-48a2-858e-478ece702154",
        "colab": {
          "base_uri": "https://localhost:8080/",
          "height": 295
        }
      },
      "outputs": [
        {
          "output_type": "display_data",
          "data": {
            "text/plain": [
              "<Figure size 432x288 with 1 Axes>"
            ],
            "image/png": "[encoded data removed]"
          },
          "metadata": {
            "needs_background": "light"
          }
        }
      ],
      "source": [
        "plt.plot(real_stock_price, color = 'red', label = 'Real Stock Price')\n",
        "plt.plot(price_t, color = 'blue', label = 'Predicted Stock Price')\n",
        "plt.title('Price Prediction')\n",
        "plt.xlabel('Time')\n",
        "plt.ylabel('Stock Price')\n",
        "plt.legend()\n",
        "plt.show()"
      ]
    },
    {
      "cell_type": "code",
      "execution_count": 16,
      "metadata": {
        "id": "teKGUWnPioev"
      },
      "outputs": [],
      "source": [
        "from sklearn.metrics import mean_absolute_error, mean_squared_error"
      ]
    },
    {
      "cell_type": "markdown",
      "metadata": {
        "id": "_Rn6av3Qioev"
      },
      "source": [
        "Error absoluto medio de la predicción."
      ]
    },
    {
      "cell_type": "code",
      "execution_count": 17,
      "metadata": {
        "id": "1M0mttJ6ioew",
        "outputId": "7fcbc8b7-f771-49c8-9546-da1511ec50f3",
        "colab": {
          "base_uri": "https://localhost:8080/"
        }
      },
      "outputs": [
        {
          "output_type": "execute_result",
          "data": {
            "text/plain": [
              "12.609852833210134"
            ]
          },
          "metadata": {},
          "execution_count": 17
        }
      ],
      "source": [
        "mean_absolute_error(predicted_stock_price, real_stock_price)"
      ]
    },
    {
      "cell_type": "markdown",
      "metadata": {
        "id": "v04Ir_xiioey"
      },
      "source": [
        "Valos promedio de las acciones el mes de Enero."
      ]
    },
    {
      "cell_type": "code",
      "execution_count": 18,
      "metadata": {
        "id": "sNu5NLRFioey",
        "outputId": "4fc495e9-dcda-4e3c-e875-041e7048bfc8",
        "colab": {
          "base_uri": "https://localhost:8080/"
        }
      },
      "outputs": [
        {
          "output_type": "execute_result",
          "data": {
            "text/plain": [
              "13.062798634812287"
            ]
          },
          "metadata": {},
          "execution_count": 18
        }
      ],
      "source": [
        "np.mean(real_stock_price)"
      ]
    },
    {
      "cell_type": "markdown",
      "metadata": {
        "id": "otH55yjrioez"
      },
      "source": [
        "El porcentaje de error sobre el valor de las acciones."
      ]
    },
    {
      "cell_type": "code",
      "execution_count": 19,
      "metadata": {
        "id": "diJApboSioe0",
        "outputId": "e3ed618e-f24f-4137-dfed-798addbd7c2d",
        "colab": {
          "base_uri": "https://localhost:8080/"
        }
      },
      "outputs": [
        {
          "output_type": "execute_result",
          "data": {
            "text/plain": [
              "0.9653255160502088"
            ]
          },
          "metadata": {},
          "execution_count": 19
        }
      ],
      "source": [
        "mean_absolute_error(predicted_stock_price, real_stock_price) / np.mean(real_stock_price)"
      ]
    },
    {
      "cell_type": "markdown",
      "metadata": {
        "id": "jxl3daugioe0"
      },
      "source": [
        "Calcularmos el error de cada dia de enero y lo graficamos."
      ]
    },
    {
      "cell_type": "code",
      "execution_count": 20,
      "metadata": {
        "id": "Yv5L9va6ioe1"
      },
      "outputs": [],
      "source": [
        "error = predicted_stock_price - real_stock_price"
      ]
    },
    {
      "cell_type": "code",
      "execution_count": 21,
      "metadata": {
        "id": "9qKzULF7ioe1",
        "outputId": "a89eae5a-c1fe-4121-e184-3e3ba80cbf35",
        "colab": {
          "base_uri": "https://localhost:8080/",
          "height": 312
        }
      },
      "outputs": [
        {
          "output_type": "execute_result",
          "data": {
            "text/plain": [
              "Text(0, 0.5, 'Prediction error')"
            ]
          },
          "metadata": {},
          "execution_count": 21
        },
        {
          "output_type": "display_data",
          "data": {
            "text/plain": [
              "<Figure size 432x288 with 1 Axes>"
            ],
            "image/png": "[encoded data removed]"
          },
          "metadata": {
            "needs_background": "light"
          }
        }
      ],
      "source": [
        "plt.plot(error)\n",
        "plt.axhline(y=0, xmin=0, xmax=20, ls='--', color='k')\n",
        "plt.title('Trading Sistem')\n",
        "plt.xlabel('Time')\n",
        "plt.ylabel('Prediction error')"
      ]
    },
    {
      "cell_type": "code",
      "source": [
        "import joblib\n",
        "joblib.dump(regressor, 'modelo_entrenado.plk')"
      ],
      "metadata": {
        "id": "C8bFiuiAPanz",
        "colab": {
          "base_uri": "https://localhost:8080/"
        },
        "outputId": "d3e730fc-7bb0-4dfa-d048-ee18c4c074b0"
      },
      "execution_count": 22,
      "outputs": [
        {
          "output_type": "stream",
          "name": "stderr",
          "text": [
            "WARNING:absl:Found untraced functions such as lstm_cell_layer_call_fn, lstm_cell_layer_call_and_return_conditional_losses, lstm_cell_1_layer_call_fn, lstm_cell_1_layer_call_and_return_conditional_losses, lstm_cell_2_layer_call_fn while saving (showing 5 of 16). These functions will not be directly callable after loading.\n"
          ]
        },
        {
          "output_type": "stream",
          "name": "stdout",
          "text": [
            "INFO:tensorflow:Assets written to: ram://0fc5c850-98cc-47d2-b432-a8d9d1fdd1c4/assets\n"
          ]
        },
        {
          "output_type": "stream",
          "name": "stderr",
          "text": [
            "INFO:tensorflow:Assets written to: ram://0fc5c850-98cc-47d2-b432-a8d9d1fdd1c4/assets\n",
            "WARNING:absl:<keras.layers.recurrent.LSTMCell object at 0x7fc774115c10> has the same name 'LSTMCell' as a built-in Keras object. Consider renaming <class 'keras.layers.recurrent.LSTMCell'> to avoid naming conflicts when loading with `tf.keras.models.load_model`. If renaming is not possible, pass the object in the `custom_objects` parameter of the load function.\n",
            "WARNING:absl:<keras.layers.recurrent.LSTMCell object at 0x7fc6f67e2750> has the same name 'LSTMCell' as a built-in Keras object. Consider renaming <class 'keras.layers.recurrent.LSTMCell'> to avoid naming conflicts when loading with `tf.keras.models.load_model`. If renaming is not possible, pass the object in the `custom_objects` parameter of the load function.\n",
            "WARNING:absl:<keras.layers.recurrent.LSTMCell object at 0x7fc6f670fc10> has the same name 'LSTMCell' as a built-in Keras object. Consider renaming <class 'keras.layers.recurrent.LSTMCell'> to avoid naming conflicts when loading with `tf.keras.models.load_model`. If renaming is not possible, pass the object in the `custom_objects` parameter of the load function.\n",
            "WARNING:absl:<keras.layers.recurrent.LSTMCell object at 0x7fc6f6697b50> has the same name 'LSTMCell' as a built-in Keras object. Consider renaming <class 'keras.layers.recurrent.LSTMCell'> to avoid naming conflicts when loading with `tf.keras.models.load_model`. If renaming is not possible, pass the object in the `custom_objects` parameter of the load function.\n",
            "WARNING:absl:<keras.layers.recurrent.LSTMCell object at 0x7fc6f66f04d0> has the same name 'LSTMCell' as a built-in Keras object. Consider renaming <class 'keras.layers.recurrent.LSTMCell'> to avoid naming conflicts when loading with `tf.keras.models.load_model`. If renaming is not possible, pass the object in the `custom_objects` parameter of the load function.\n",
            "WARNING:absl:<keras.layers.recurrent.LSTMCell object at 0x7fc6f6553550> has the same name 'LSTMCell' as a built-in Keras object. Consider renaming <class 'keras.layers.recurrent.LSTMCell'> to avoid naming conflicts when loading with `tf.keras.models.load_model`. If renaming is not possible, pass the object in the `custom_objects` parameter of the load function.\n",
            "WARNING:absl:<keras.layers.recurrent.LSTMCell object at 0x7fc6f6528310> has the same name 'LSTMCell' as a built-in Keras object. Consider renaming <class 'keras.layers.recurrent.LSTMCell'> to avoid naming conflicts when loading with `tf.keras.models.load_model`. If renaming is not possible, pass the object in the `custom_objects` parameter of the load function.\n",
            "WARNING:absl:<keras.layers.recurrent.LSTMCell object at 0x7fc6f6437ed0> has the same name 'LSTMCell' as a built-in Keras object. Consider renaming <class 'keras.layers.recurrent.LSTMCell'> to avoid naming conflicts when loading with `tf.keras.models.load_model`. If renaming is not possible, pass the object in the `custom_objects` parameter of the load function.\n"
          ]
        },
        {
          "output_type": "execute_result",
          "data": {
            "text/plain": [
              "['modelo_entrenado.plk']"
            ]
          },
          "metadata": {},
          "execution_count": 22
        }
      ]
    },
    {
      "cell_type": "code",
      "source": [
        "\n"
      ],
      "metadata": {
        "id": "zOabGuwoujoY"
      },
      "execution_count": 22,
      "outputs": []
    },
    {
      "cell_type": "code",
      "source": [
        "import joblib\n",
        "\n",
        "modelo = joblib.load('modelo_entrenado.plk')\n",
        "\n",
        "df = pd.read_csv('AAPL.csv')\n",
        "\n",
        "X_df, y_df = preprocessing(df)\n",
        "\n",
        "real = df.loc[ve:, ['Open']].values.round(2)\n",
        "\n",
        "prediccion = modelo.predict(X_df)\n",
        "\n",
        "\n",
        "prediccion_list = []\n",
        "\n",
        "for i in range(len(prediccion)):\n",
        "    x = (prediccion[i,0]*(scaler.data_max_[0]-scaler.data_min_[0]))+scaler.data_min_[0]\n",
        "    prediccion_list.append(x)\n",
        "\n",
        "\n",
        "\n",
        "plt.plot(real, color = 'red', label = 'Real Stock Price')\n",
        "plt.plot(prediccion_list, color = 'blue', label = 'Predicted Stock Price')\n",
        "plt.title('Price Prediction')\n",
        "plt.xlabel('Time')\n",
        "plt.ylabel('Stock Price')\n",
        "plt.legend()\n",
        "plt.show()"
      ],
      "metadata": {
        "colab": {
          "base_uri": "https://localhost:8080/",
          "height": 295
        },
        "id": "quEE94KPu18C",
        "outputId": "fe80fe09-32ec-47f0-aa85-42371f579474"
      },
      "execution_count": 23,
      "outputs": [
        {
          "output_type": "display_data",
          "data": {
            "text/plain": [
              "<Figure size 432x288 with 1 Axes>"
            ],
            "image/png": "[encoded data removed]"
          },
          "metadata": {
            "needs_background": "light"
          }
        }
      ]
    }
  ],
  "metadata": {
    "kernelspec": {
      "display_name": "Python 3.10.2 64-bit",
      "language": "python",
      "name": "python3"
    },
    "language_info": {
      "codemirror_mode": {
        "name": "ipython",
        "version": 3
      },
      "file_extension": ".py",
      "mimetype": "text/x-python",
      "name": "python",
      "nbconvert_exporter": "python",
      "pygments_lexer": "ipython3",
      "version": "3.10.2"
    },
    "vscode": {
      "interpreter": {
        "hash": "9cbb33fb0dd98d60d7542c1e0a8ec9389a1bc71302aaca21e62e688716f63114"
      }
    },
    "colab": {
      "name": "RNN_TP_FINAL.ipynb",
      "provenance": [],
      "collapsed_sections": [
        "MgWyCQaEioee",
        "zFO8ae4eioeg",
        "Nu7uyNG1ioej",
        "iUQ-3gCZioek",
        "FoGd3wdOioel"
      ],
      "include_colab_link": true
    },
    "accelerator": "GPU",
    "gpuClass": "standard"
  },
  "nbformat": 4,
  "nbformat_minor": 0
}