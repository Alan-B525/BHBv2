{
  "cells": [
    {
      "cell_type": "markdown",
      "metadata": {
        "id": "view-in-github",
        "colab_type": "text"
      },
      "source": [
        "<a href=\"https://colab.research.google.com/github/Alan-B525/TP_FINAL_IC2022/blob/main/RNN_TP_FINAL.ipynb\" target=\"_parent\"><img src=\"https://colab.research.google.com/assets/colab-badge.svg\" alt=\"Open In Colab\"/></a>"
      ]
    },
    {
      "cell_type": "markdown",
      "metadata": {
        "id": "Q3Gh7Glmiody"
      },
      "source": [
        "# Redes Neuronales Recurrentes"
      ]
    },
    {
      "cell_type": "code",
      "execution_count": 1,
      "metadata": {
        "id": "mBWYZgoxiod8"
      },
      "outputs": [],
      "source": [
        "import pandas as pd\n",
        "import numpy as np\n",
        "import matplotlib.pyplot as plt\n",
        "from sklearn.preprocessing import MinMaxScaler\n"
      ]
    },
    {
      "cell_type": "markdown",
      "metadata": {
        "id": "YEVWkONUioeB"
      },
      "source": [
        "# Preprocesado de datos"
      ]
    },
    {
      "cell_type": "code",
      "source": [
        "scaler = MinMaxScaler( feature_range=(0, 1) )\n",
        "\n",
        "ve = 120\n"
      ],
      "metadata": {
        "id": "yJ8V9I09YCnF"
      },
      "execution_count": 2,
      "outputs": []
    },
    {
      "cell_type": "code",
      "source": [
        "\n",
        "def preprocessing(data):\n",
        "  data = data.drop(['Date','Adj Close'], axis=1)\n",
        "  data = data.round(2)\n",
        "\n",
        "  #transformar dataframe a numpy array\n",
        "  data = data.values\n",
        "\n",
        "  #normalizar datos\n",
        "  data = scaler.fit_transform(data)\n",
        "\n",
        "  X_train = []\n",
        "  y_train = []\n",
        "\n",
        "  for i in range(ve, len(data)):\n",
        "      X_train.append(data[i-ve:i, :])\n",
        "      y_train.append(data[i, 0])\n",
        " \n",
        "  X_train, y_train = np.array(X_train), np.array(y_train)\n",
        "  \n",
        "\n",
        "\n",
        "  return X_train, y_train"
      ],
      "metadata": {
        "id": "Y_aodGU4rpoW"
      },
      "execution_count": 3,
      "outputs": []
    },
    {
      "cell_type": "code",
      "source": [
        "#importar datos\n",
        "dataset_train = pd.read_csv('NASDAQ_train.csv')\n",
        "\n",
        "#se llama a la funcion de procesamiento\n",
        "X_train, y_train = preprocessing(dataset_train)\n"
      ],
      "metadata": {
        "id": "cxzQ-6tlUXkr"
      },
      "execution_count": 4,
      "outputs": []
    },
    {
      "cell_type": "markdown",
      "metadata": {
        "id": "KTUOu3NCioec"
      },
      "source": [
        "# Construcción de la RNN"
      ]
    },
    {
      "cell_type": "code",
      "execution_count": 5,
      "metadata": {
        "id": "ibrjxfB_ioed"
      },
      "outputs": [],
      "source": [
        "from keras.models import Sequential\n",
        "from keras.layers import Dense, LSTM, Dropout"
      ]
    },
    {
      "cell_type": "markdown",
      "metadata": {
        "id": "MgWyCQaEioee"
      },
      "source": [
        "### Inicialización del la red"
      ]
    },
    {
      "cell_type": "code",
      "execution_count": 6,
      "metadata": {
        "id": "9ua2SgRKioef"
      },
      "outputs": [],
      "source": [
        "regressor = Sequential()"
      ]
    },
    {
      "cell_type": "markdown",
      "metadata": {
        "id": "zFO8ae4eioeg"
      },
      "source": [
        "### Añadir las capas  LSTM y  regularización por Dropout"
      ]
    },
    {
      "cell_type": "code",
      "execution_count": 7,
      "metadata": {
        "id": "S3R89dKvioei"
      },
      "outputs": [],
      "source": [
        "regressor.add(LSTM(units=60, return_sequences=True, input_shape=(X_train.shape[1], X_train.shape[2])))\n",
        "regressor.add(Dropout(rate=0.2))\n",
        "regressor.add(LSTM(units=60, return_sequences=True))\n",
        "regressor.add(Dropout(rate=0.2))\n",
        "regressor.add(LSTM(units=60, return_sequences=True))\n",
        "regressor.add(Dropout(rate=0.2))\n",
        "regressor.add(LSTM(units=60, return_sequences=True))\n",
        "regressor.add(Dropout(rate=0.2))\n",
        "regressor.add(LSTM(units=60, return_sequences=False))\n",
        "regressor.add(Dropout(rate=0.2))"
      ]
    },
    {
      "cell_type": "markdown",
      "metadata": {
        "id": "Nu7uyNG1ioej"
      },
      "source": [
        "### Añadir la capa de salida"
      ]
    },
    {
      "cell_type": "code",
      "execution_count": 8,
      "metadata": {
        "id": "21LOxGSjioej"
      },
      "outputs": [],
      "source": [
        "regressor.add(Dense(units=1))"
      ]
    },
    {
      "cell_type": "markdown",
      "source": [
        ""
      ],
      "metadata": {
        "id": "j0gwyIZLyqnI"
      }
    },
    {
      "cell_type": "markdown",
      "metadata": {
        "id": "iUQ-3gCZioek"
      },
      "source": [
        "### Compilar la RNN "
      ]
    },
    {
      "cell_type": "code",
      "execution_count": 9,
      "metadata": {
        "id": "RrFiCX9_ioel"
      },
      "outputs": [],
      "source": [
        "regressor.compile(optimizer='adam', loss='mean_squared_error')"
      ]
    },
    {
      "cell_type": "markdown",
      "metadata": {
        "id": "FoGd3wdOioel"
      },
      "source": [
        "### Entrenamiento de la Red Neuronal Recurrente"
      ]
    },
    {
      "cell_type": "code",
      "execution_count": 10,
      "metadata": {
        "scrolled": false,
        "id": "FO2uY8DQioem",
        "outputId": "c228442b-f873-4756-d7a9-b8e4df1928c0",
        "colab": {
          "base_uri": "https://localhost:8080/"
        }
      },
      "outputs": [
        {
          "output_type": "execute_result",
          "data": {
            "text/plain": [
              "<keras.callbacks.History at 0x7f670eafda10>"
            ]
          },
          "metadata": {},
          "execution_count": 10
        }
      ],
      "source": [
        "regressor.fit(X_train, y_train, epochs=50, batch_size=32, verbose=False)"
      ]
    },
    {
      "cell_type": "markdown",
      "metadata": {
        "id": "Xov-a2q_ioeo"
      },
      "source": [
        "# Predecir el valor de las acciones"
      ]
    },
    {
      "cell_type": "code",
      "execution_count": 14,
      "metadata": {
        "id": "E2scRi3Wioen"
      },
      "outputs": [],
      "source": [
        "\n",
        "dataset_test = pd.read_csv('NASDAQ_test.csv')\n",
        "\n"
      ]
    },
    {
      "cell_type": "code",
      "source": [
        "X_test, y_test = preprocessing(dataset_test)\n",
        "\n",
        "real_stock_price = dataset_test.loc[ve:, ['Open']].values.round(2)"
      ],
      "metadata": {
        "id": "xtL26UMZzvqi"
      },
      "execution_count": 15,
      "outputs": []
    },
    {
      "cell_type": "markdown",
      "metadata": {
        "id": "HG3CtAERioet"
      },
      "source": [
        "Realizamos la predicción."
      ]
    },
    {
      "cell_type": "code",
      "source": [
        "# Prediccion de los valores del mes de enero \n",
        "predicted_stock_price = regressor.predict(X_test)\n"
      ],
      "metadata": {
        "id": "k6nAsrmh4IXA"
      },
      "execution_count": 16,
      "outputs": []
    },
    {
      "cell_type": "markdown",
      "source": [
        "#Transformación de los precios"
      ],
      "metadata": {
        "id": "rwDNCUfeE5QL"
      }
    },
    {
      "cell_type": "code",
      "execution_count": 17,
      "metadata": {
        "id": "TER1WS_Dioet"
      },
      "outputs": [],
      "source": [
        "price_t = []\n",
        "\n",
        "for i in range(len(predicted_stock_price)):\n",
        "    x = (predicted_stock_price[i,0]*(scaler.data_max_[0]-scaler.data_min_[0]))+scaler.data_min_[0]\n",
        "    price_t.append(x)\n"
      ]
    },
    {
      "cell_type": "code",
      "source": [
        ""
      ],
      "metadata": {
        "id": "rVxufPHG25P-"
      },
      "execution_count": null,
      "outputs": []
    },
    {
      "cell_type": "markdown",
      "metadata": {
        "id": "_qIJPorcioeu"
      },
      "source": [
        "# Visualizar los resultados"
      ]
    },
    {
      "cell_type": "code",
      "execution_count": 18,
      "metadata": {
        "id": "_kTOpg4gioeu",
        "outputId": "b00f10bd-552c-4292-ee0f-f6cc69a4a8f4",
        "colab": {
          "base_uri": "https://localhost:8080/",
          "height": 295
        }
      },
      "outputs": [
        {
          "output_type": "display_data",
          "data": {
            "text/plain": [
              "<Figure size 432x288 with 1 Axes>"
            ],
            "image/png": "[encoded data removed]"
          },
          "metadata": {
            "needs_background": "light"
          }
        }
      ],
      "source": [
        "plt.plot(real_stock_price, color = 'red', label = 'Real Stock Price')\n",
        "plt.plot(price_t, color = 'blue', label = 'Predicted Stock Price')\n",
        "plt.title('Price Prediction')\n",
        "plt.xlabel('Time')\n",
        "plt.ylabel('Stock Price')\n",
        "plt.legend()\n",
        "plt.show()"
      ]
    },
    {
      "cell_type": "code",
      "execution_count": 53,
      "metadata": {
        "id": "teKGUWnPioev"
      },
      "outputs": [],
      "source": [
        "from sklearn.metrics import mean_absolute_error, mean_squared_error"
      ]
    },
    {
      "cell_type": "code",
      "source": [
        "\n",
        "\n",
        "price_t = price_t.reshape(-1,1)\n",
        "\n",
        "price_t = np.array(price_t)\n",
        "\n",
        "price_t.shape"
      ],
      "metadata": {
        "colab": {
          "base_uri": "https://localhost:8080/"
        },
        "id": "eKAe57E-10AD",
        "outputId": "f7975a0a-647c-4c82-8235-b48784666590"
      },
      "execution_count": 54,
      "outputs": [
        {
          "output_type": "execute_result",
          "data": {
            "text/plain": [
              "(108, 1)"
            ]
          },
          "metadata": {},
          "execution_count": 54
        }
      ]
    },
    {
      "cell_type": "code",
      "source": [
        "real_stock_price.shape"
      ],
      "metadata": {
        "colab": {
          "base_uri": "https://localhost:8080/"
        },
        "id": "e0oR8EYp3P9U",
        "outputId": "6b4234b0-8e89-43f3-d75b-2d5c57ae1cf6"
      },
      "execution_count": 55,
      "outputs": [
        {
          "output_type": "execute_result",
          "data": {
            "text/plain": [
              "(108, 1)"
            ]
          },
          "metadata": {},
          "execution_count": 55
        }
      ]
    },
    {
      "cell_type": "markdown",
      "metadata": {
        "id": "_Rn6av3Qioev"
      },
      "source": [
        "Error absoluto medio de la predicción."
      ]
    },
    {
      "cell_type": "code",
      "execution_count": 56,
      "metadata": {
        "id": "1M0mttJ6ioew",
        "outputId": "93a1a154-a2e6-4261-a48f-6a9650340168",
        "colab": {
          "base_uri": "https://localhost:8080/"
        }
      },
      "outputs": [
        {
          "output_type": "execute_result",
          "data": {
            "text/plain": [
              "440.3987850073173"
            ]
          },
          "metadata": {},
          "execution_count": 56
        }
      ],
      "source": [
        "mean_absolute_error(price_t, real_stock_price)"
      ]
    },
    {
      "cell_type": "markdown",
      "metadata": {
        "id": "v04Ir_xiioey"
      },
      "source": [
        "Valos promedio de las acciones el mes de Enero."
      ]
    },
    {
      "cell_type": "code",
      "execution_count": 57,
      "metadata": {
        "id": "sNu5NLRFioey",
        "outputId": "5d605514-8feb-4f09-9752-7d7db3edb955",
        "colab": {
          "base_uri": "https://localhost:8080/"
        }
      },
      "outputs": [
        {
          "output_type": "execute_result",
          "data": {
            "text/plain": [
              "13572.036759259261"
            ]
          },
          "metadata": {},
          "execution_count": 57
        }
      ],
      "source": [
        "np.mean(real_stock_price)"
      ]
    },
    {
      "cell_type": "markdown",
      "metadata": {
        "id": "otH55yjrioez"
      },
      "source": [
        "El porcentaje de error sobre el valor de las acciones."
      ]
    },
    {
      "cell_type": "code",
      "execution_count": 58,
      "metadata": {
        "id": "diJApboSioe0",
        "outputId": "6f8012b5-dd10-4110-8434-392d57c17308",
        "colab": {
          "base_uri": "https://localhost:8080/"
        }
      },
      "outputs": [
        {
          "output_type": "execute_result",
          "data": {
            "text/plain": [
              "0.03244898262649221"
            ]
          },
          "metadata": {},
          "execution_count": 58
        }
      ],
      "source": [
        "mean_absolute_error(price_t, real_stock_price) / np.mean(real_stock_price)"
      ]
    },
    {
      "cell_type": "markdown",
      "metadata": {
        "id": "jxl3daugioe0"
      },
      "source": [
        "Calcularmos el error de cada dia de enero y lo graficamos."
      ]
    },
    {
      "cell_type": "code",
      "execution_count": 59,
      "metadata": {
        "id": "Yv5L9va6ioe1"
      },
      "outputs": [],
      "source": [
        "error = price_t - real_stock_price"
      ]
    },
    {
      "cell_type": "code",
      "execution_count": 61,
      "metadata": {
        "id": "9qKzULF7ioe1",
        "outputId": "4b56c829-8d86-4221-90b1-e7b07db665ad",
        "colab": {
          "base_uri": "https://localhost:8080/",
          "height": 312
        }
      },
      "outputs": [
        {
          "output_type": "execute_result",
          "data": {
            "text/plain": [
              "Text(0, 0.5, 'Prediction error')"
            ]
          },
          "metadata": {},
          "execution_count": 61
        },
        {
          "output_type": "display_data",
          "data": {
            "text/plain": [
              "<Figure size 432x288 with 1 Axes>"
            ],
            "image/png": "[encoded data removed]"
          },
          "metadata": {
            "needs_background": "light"
          }
        }
      ],
      "source": [
        "plt.plot(error)\n",
        "plt.axhline(y=0, xmin=0, xmax=20, ls='--', color='k')\n",
        "plt.title('Trading Sistem')\n",
        "plt.xlabel('Time')\n",
        "plt.ylabel('Prediction error')"
      ]
    },
    {
      "cell_type": "code",
      "source": [
        "import joblib\n",
        "joblib.dump(regressor, 'modelo_entrenado.plk')"
      ],
      "metadata": {
        "id": "C8bFiuiAPanz",
        "colab": {
          "base_uri": "https://localhost:8080/"
        },
        "outputId": "091d7e87-69c7-461d-99a0-3f9da6f4c943"
      },
      "execution_count": 62,
      "outputs": [
        {
          "output_type": "stream",
          "name": "stderr",
          "text": [
            "WARNING:absl:Found untraced functions such as lstm_cell_layer_call_fn, lstm_cell_layer_call_and_return_conditional_losses, lstm_cell_1_layer_call_fn, lstm_cell_1_layer_call_and_return_conditional_losses, lstm_cell_2_layer_call_fn while saving (showing 5 of 10). These functions will not be directly callable after loading.\n"
          ]
        },
        {
          "output_type": "stream",
          "name": "stdout",
          "text": [
            "INFO:tensorflow:Assets written to: ram://6678b6b5-6427-47d0-a94b-e2cbbca21c0d/assets\n"
          ]
        },
        {
          "output_type": "stream",
          "name": "stderr",
          "text": [
            "INFO:tensorflow:Assets written to: ram://6678b6b5-6427-47d0-a94b-e2cbbca21c0d/assets\n",
            "WARNING:absl:<keras.layers.recurrent.LSTMCell object at 0x7f67900c0d50> has the same name 'LSTMCell' as a built-in Keras object. Consider renaming <class 'keras.layers.recurrent.LSTMCell'> to avoid naming conflicts when loading with `tf.keras.models.load_model`. If renaming is not possible, pass the object in the `custom_objects` parameter of the load function.\n",
            "WARNING:absl:<keras.layers.recurrent.LSTMCell object at 0x7f67221d5150> has the same name 'LSTMCell' as a built-in Keras object. Consider renaming <class 'keras.layers.recurrent.LSTMCell'> to avoid naming conflicts when loading with `tf.keras.models.load_model`. If renaming is not possible, pass the object in the `custom_objects` parameter of the load function.\n",
            "WARNING:absl:<keras.layers.recurrent.LSTMCell object at 0x7f6722153410> has the same name 'LSTMCell' as a built-in Keras object. Consider renaming <class 'keras.layers.recurrent.LSTMCell'> to avoid naming conflicts when loading with `tf.keras.models.load_model`. If renaming is not possible, pass the object in the `custom_objects` parameter of the load function.\n",
            "WARNING:absl:<keras.layers.recurrent.LSTMCell object at 0x7f67220d9050> has the same name 'LSTMCell' as a built-in Keras object. Consider renaming <class 'keras.layers.recurrent.LSTMCell'> to avoid naming conflicts when loading with `tf.keras.models.load_model`. If renaming is not possible, pass the object in the `custom_objects` parameter of the load function.\n",
            "WARNING:absl:<keras.layers.recurrent.LSTMCell object at 0x7f67220cced0> has the same name 'LSTMCell' as a built-in Keras object. Consider renaming <class 'keras.layers.recurrent.LSTMCell'> to avoid naming conflicts when loading with `tf.keras.models.load_model`. If renaming is not possible, pass the object in the `custom_objects` parameter of the load function.\n"
          ]
        },
        {
          "output_type": "execute_result",
          "data": {
            "text/plain": [
              "['modelo_entrenado.plk']"
            ]
          },
          "metadata": {},
          "execution_count": 62
        }
      ]
    }
  ],
  "metadata": {
    "kernelspec": {
      "display_name": "Python 3.10.2 64-bit",
      "language": "python",
      "name": "python3"
    },
    "language_info": {
      "codemirror_mode": {
        "name": "ipython",
        "version": 3
      },
      "file_extension": ".py",
      "mimetype": "text/x-python",
      "name": "python",
      "nbconvert_exporter": "python",
      "pygments_lexer": "ipython3",
      "version": "3.10.2"
    },
    "vscode": {
      "interpreter": {
        "hash": "9cbb33fb0dd98d60d7542c1e0a8ec9389a1bc71302aaca21e62e688716f63114"
      }
    },
    "colab": {
      "name": "RNN_TP_FINAL.ipynb",
      "provenance": [],
      "collapsed_sections": [
        "MgWyCQaEioee",
        "zFO8ae4eioeg",
        "Nu7uyNG1ioej",
        "iUQ-3gCZioek",
        "FoGd3wdOioel"
      ],
      "include_colab_link": true
    },
    "accelerator": "GPU",
    "gpuClass": "standard"
  },
  "nbformat": 4,
  "nbformat_minor": 0
}