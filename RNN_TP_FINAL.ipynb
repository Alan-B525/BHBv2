{
  "cells": [
    {
      "cell_type": "markdown",
      "metadata": {
        "id": "view-in-github",
        "colab_type": "text"
      },
      "source": [
        "<a href=\"https://colab.research.google.com/github/Alan-B525/BHBv2/blob/main/RNN_TP_FINAL.ipynb\" target=\"_parent\"><img src=\"https://colab.research.google.com/assets/colab-badge.svg\" alt=\"Open In Colab\"/></a>"
      ]
    },
    {
      "cell_type": "markdown",
      "metadata": {
        "id": "Q3Gh7Glmiody"
      },
      "source": [
        "# Redes Neuronales Recurrentes"
      ]
    },
    {
      "cell_type": "code",
      "execution_count": 116,
      "metadata": {
        "id": "mBWYZgoxiod8"
      },
      "outputs": [],
      "source": [
        "import pandas as pd\n",
        "import numpy as np\n",
        "import matplotlib.pyplot as plt"
      ]
    },
    {
      "cell_type": "markdown",
      "metadata": {
        "id": "YEVWkONUioeB"
      },
      "source": [
        "# Preprocesado de datos"
      ]
    },
    {
      "cell_type": "code",
      "execution_count": 117,
      "metadata": {
        "colab": {
          "base_uri": "https://localhost:8080/",
          "height": 206
        },
        "id": "xOhwtWMyioeC",
        "outputId": "72d198cb-e473-46c2-b2ee-59723d8fb247"
      },
      "outputs": [
        {
          "output_type": "execute_result",
          "data": {
            "text/plain": [
              "      Open     High      Low    Close      Volume\n",
              "0  1578.87  1636.03  1571.98  1632.21  1438410000\n",
              "1  1621.48  1640.46  1604.63  1628.03  1816580000\n",
              "2  1642.37  1665.63  1636.25  1652.38  2137640000\n",
              "3  1621.63  1625.37  1588.20  1599.06  2020170000\n",
              "4  1590.25  1617.01  1584.28  1617.01  1968160000"
            ],
            "text/html": [
              "\n",
              "  <div id=\"df-c20cd549-3ecd-4870-a55c-1f221755712f\">\n",
              "    <div class=\"colab-df-container\">\n",
              "      <div>\n",
              "<style scoped>\n",
              "    .dataframe tbody tr th:only-of-type {\n",
              "        vertical-align: middle;\n",
              "    }\n",
              "\n",
              "    .dataframe tbody tr th {\n",
              "        vertical-align: top;\n",
              "    }\n",
              "\n",
              "    .dataframe thead th {\n",
              "        text-align: right;\n",
              "    }\n",
              "</style>\n",
              "<table border=\"1\" class=\"dataframe\">\n",
              "  <thead>\n",
              "    <tr style=\"text-align: right;\">\n",
              "      <th></th>\n",
              "      <th>Open</th>\n",
              "      <th>High</th>\n",
              "      <th>Low</th>\n",
              "      <th>Close</th>\n",
              "      <th>Volume</th>\n",
              "    </tr>\n",
              "  </thead>\n",
              "  <tbody>\n",
              "    <tr>\n",
              "      <th>0</th>\n",
              "      <td>1578.87</td>\n",
              "      <td>1636.03</td>\n",
              "      <td>1571.98</td>\n",
              "      <td>1632.21</td>\n",
              "      <td>1438410000</td>\n",
              "    </tr>\n",
              "    <tr>\n",
              "      <th>1</th>\n",
              "      <td>1621.48</td>\n",
              "      <td>1640.46</td>\n",
              "      <td>1604.63</td>\n",
              "      <td>1628.03</td>\n",
              "      <td>1816580000</td>\n",
              "    </tr>\n",
              "    <tr>\n",
              "      <th>2</th>\n",
              "      <td>1642.37</td>\n",
              "      <td>1665.63</td>\n",
              "      <td>1636.25</td>\n",
              "      <td>1652.38</td>\n",
              "      <td>2137640000</td>\n",
              "    </tr>\n",
              "    <tr>\n",
              "      <th>3</th>\n",
              "      <td>1621.63</td>\n",
              "      <td>1625.37</td>\n",
              "      <td>1588.20</td>\n",
              "      <td>1599.06</td>\n",
              "      <td>2020170000</td>\n",
              "    </tr>\n",
              "    <tr>\n",
              "      <th>4</th>\n",
              "      <td>1590.25</td>\n",
              "      <td>1617.01</td>\n",
              "      <td>1584.28</td>\n",
              "      <td>1617.01</td>\n",
              "      <td>1968160000</td>\n",
              "    </tr>\n",
              "  </tbody>\n",
              "</table>\n",
              "</div>\n",
              "      <button class=\"colab-df-convert\" onclick=\"convertToInteractive('df-c20cd549-3ecd-4870-a55c-1f221755712f')\"\n",
              "              title=\"Convert this dataframe to an interactive table.\"\n",
              "              style=\"display:none;\">\n",
              "        \n",
              "  <svg xmlns=\"http://www.w3.org/2000/svg\" height=\"24px\"viewBox=\"0 0 24 24\"\n",
              "       width=\"24px\">\n",
              "    <path d=\"M0 0h24v24H0V0z\" fill=\"none\"/>\n",
              "    <path d=\"M18.56 5.44l.94 2.06.94-2.06 2.06-.94-2.06-.94-.94-2.06-.94 2.06-2.06.94zm-11 1L8.5 8.5l.94-2.06 2.06-.94-2.06-.94L8.5 2.5l-.94 2.06-2.06.94zm10 10l.94 2.06.94-2.06 2.06-.94-2.06-.94-.94-2.06-.94 2.06-2.06.94z\"/><path d=\"M17.41 7.96l-1.37-1.37c-.4-.4-.92-.59-1.43-.59-.52 0-1.04.2-1.43.59L10.3 9.45l-7.72 7.72c-.78.78-.78 2.05 0 2.83L4 21.41c.39.39.9.59 1.41.59.51 0 1.02-.2 1.41-.59l7.78-7.78 2.81-2.81c.8-.78.8-2.07 0-2.86zM5.41 20L4 18.59l7.72-7.72 1.47 1.35L5.41 20z\"/>\n",
              "  </svg>\n",
              "      </button>\n",
              "      \n",
              "  <style>\n",
              "    .colab-df-container {\n",
              "      display:flex;\n",
              "      flex-wrap:wrap;\n",
              "      gap: 12px;\n",
              "    }\n",
              "\n",
              "    .colab-df-convert {\n",
              "      background-color: #E8F0FE;\n",
              "      border: none;\n",
              "      border-radius: 50%;\n",
              "      cursor: pointer;\n",
              "      display: none;\n",
              "      fill: #1967D2;\n",
              "      height: 32px;\n",
              "      padding: 0 0 0 0;\n",
              "      width: 32px;\n",
              "    }\n",
              "\n",
              "    .colab-df-convert:hover {\n",
              "      background-color: #E2EBFA;\n",
              "      box-shadow: 0px 1px 2px rgba(60, 64, 67, 0.3), 0px 1px 3px 1px rgba(60, 64, 67, 0.15);\n",
              "      fill: #174EA6;\n",
              "    }\n",
              "\n",
              "    [theme=dark] .colab-df-convert {\n",
              "      background-color: #3B4455;\n",
              "      fill: #D2E3FC;\n",
              "    }\n",
              "\n",
              "    [theme=dark] .colab-df-convert:hover {\n",
              "      background-color: #434B5C;\n",
              "      box-shadow: 0px 1px 3px 1px rgba(0, 0, 0, 0.15);\n",
              "      filter: drop-shadow(0px 1px 2px rgba(0, 0, 0, 0.3));\n",
              "      fill: #FFFFFF;\n",
              "    }\n",
              "  </style>\n",
              "\n",
              "      <script>\n",
              "        const buttonEl =\n",
              "          document.querySelector('#df-c20cd549-3ecd-4870-a55c-1f221755712f button.colab-df-convert');\n",
              "        buttonEl.style.display =\n",
              "          google.colab.kernel.accessAllowed ? 'block' : 'none';\n",
              "\n",
              "        async function convertToInteractive(key) {\n",
              "          const element = document.querySelector('#df-c20cd549-3ecd-4870-a55c-1f221755712f');\n",
              "          const dataTable =\n",
              "            await google.colab.kernel.invokeFunction('convertToInteractive',\n",
              "                                                     [key], {});\n",
              "          if (!dataTable) return;\n",
              "\n",
              "          const docLinkHtml = 'Like what you see? Visit the ' +\n",
              "            '<a target=\"_blank\" href=https://colab.research.google.com/notebooks/data_table.ipynb>data table notebook</a>'\n",
              "            + ' to learn more about interactive tables.';\n",
              "          element.innerHTML = '';\n",
              "          dataTable['output_type'] = 'display_data';\n",
              "          await google.colab.output.renderOutput(dataTable, element);\n",
              "          const docLink = document.createElement('div');\n",
              "          docLink.innerHTML = docLinkHtml;\n",
              "          element.appendChild(docLink);\n",
              "        }\n",
              "      </script>\n",
              "    </div>\n",
              "  </div>\n",
              "  "
            ]
          },
          "metadata": {},
          "execution_count": 117
        }
      ],
      "source": [
        "\n",
        "dataset = pd.read_csv('/content/NASDAQ_train.csv')\n",
        "\n",
        "#remove colmn 'Adj Close'\n",
        "dataset = dataset.drop(['Date','Adj Close'], axis=1)\n",
        "\n",
        "#round all the values to 2 decimal places\n",
        "dataset = dataset.round(2)\n",
        "dataset.head()\n"
      ]
    },
    {
      "cell_type": "code",
      "execution_count": 118,
      "metadata": {
        "id": "nQQ7cbIuioeF"
      },
      "outputs": [],
      "source": [
        "training_set_open = dataset.loc[:,['Open']].values\n",
        "training_set_high = dataset.loc[:,['High']].values\n",
        "training_set_low = dataset.loc[:,['Low']].values\n",
        "training_set_close = dataset.loc[:,['Close']].values\n",
        "training_set_volume = dataset.loc[:,['Volume']].values"
      ]
    },
    {
      "cell_type": "markdown",
      "metadata": {
        "id": "g-xmR-keioeN"
      },
      "source": [
        "## Escalar los datos: Normalization"
      ]
    },
    {
      "cell_type": "code",
      "execution_count": 119,
      "metadata": {
        "id": "EL3Tp4heioeR"
      },
      "outputs": [],
      "source": [
        "from sklearn.preprocessing import MinMaxScaler"
      ]
    },
    {
      "cell_type": "code",
      "execution_count": 120,
      "metadata": {
        "id": "WicaaBerioeS"
      },
      "outputs": [],
      "source": [
        "#normalizar los datos\n",
        "scaler = MinMaxScaler(feature_range=(0, 1))\n",
        "training_set_open_scaled = scaler.fit_transform(training_set_open)\n",
        "training_set_high_scaled = scaler.fit_transform(training_set_high)\n",
        "training_set_low_scaled = scaler.fit_transform(training_set_low)\n",
        "training_set_close_scaled = scaler.fit_transform(training_set_close)\n",
        "training_set_volume_scaled = scaler.fit_transform(training_set_volume)"
      ]
    },
    {
      "cell_type": "markdown",
      "metadata": {
        "id": "SU6GWYRIioeT"
      },
      "source": [
        "## Crear una estructura de datos con 60 timesteps y 1 salida\n",
        "- En cada momento del tiempo la red neuronal podrá mirar 60 pasos atrás en términos de memoria, en función de esos 60 días atrás queremos predecir cuál será el siguiente valor, a partir de los t-60 predecir el t+1\n",
        "- Para este caso utilizamos un trimestres, tres meses de cotización para predecir el siguiente valor.\n"
      ]
    },
    {
      "cell_type": "code",
      "execution_count": 121,
      "metadata": {
        "id": "VJnYpiKRioeV"
      },
      "outputs": [],
      "source": [
        "X_train = []\n",
        "y_train = []\n",
        "\n",
        "for i in range(60, training_set_open_scaled.size):\n",
        "    X_train.append(training_set_open_scaled[i-60:i, 0])\n",
        "    y_train.append(training_set_open_scaled[i, 0])\n",
        "\n",
        "for i in range(60, training_set_high_scaled.size):\n",
        "    X_train.append(training_set_high_scaled[i-60:i, 0])\n",
        "\n",
        "for i in range(60, training_set_low_scaled.size):\n",
        "    X_train.append(training_set_low_scaled[i-60:i, 0])\n",
        "\n",
        "for i in range(60, training_set_close_scaled.size):\n",
        "    X_train.append(training_set_close_scaled[i-60:i, 0])\n",
        "\n",
        "for i in range(60, training_set_volume_scaled.size):\n",
        "    X_train.append(training_set_volume_scaled[i-60:i, 0])\n",
        "\n",
        "X_train, y_train = np.array(X_train), np.array(y_train)"
      ]
    },
    {
      "cell_type": "code",
      "execution_count": 122,
      "metadata": {
        "colab": {
          "base_uri": "https://localhost:8080/"
        },
        "id": "rOHucte8ioeX",
        "outputId": "662b885e-b54d-4d9a-ef35-0a9ab20557fc"
      },
      "outputs": [
        {
          "output_type": "execute_result",
          "data": {
            "text/plain": [
              "(16065, 60)"
            ]
          },
          "metadata": {},
          "execution_count": 122
        }
      ],
      "source": [
        "X_train.shape"
      ]
    },
    {
      "cell_type": "code",
      "execution_count": 123,
      "metadata": {
        "colab": {
          "base_uri": "https://localhost:8080/"
        },
        "id": "PcZZ8xB0ioeY",
        "outputId": "331104c6-2dd4-46b6-b11a-b108be072d9e"
      },
      "outputs": [
        {
          "output_type": "execute_result",
          "data": {
            "text/plain": [
              "(3213,)"
            ]
          },
          "metadata": {},
          "execution_count": 123
        }
      ],
      "source": [
        "y_train.shape"
      ]
    },
    {
      "cell_type": "markdown",
      "metadata": {
        "id": "ri9cnwLQioeZ"
      },
      "source": [
        "## Añadimos otra dimensión en los datos de entrenamiento, variables predictoras.\n",
        "- Hasta ahora solo hemos utilizado el valor de apertura de la acción. Pero se podrían utilizar más variables, como por ejemplo el precio de cierre\n",
        "- Este cambio de dimensión lo realizaremos con ``np.reshape()``"
      ]
    },
    {
      "cell_type": "code",
      "execution_count": 124,
      "metadata": {
        "colab": {
          "base_uri": "https://localhost:8080/"
        },
        "id": "64cJQkBaioeb",
        "outputId": "27c50bbd-6828-483a-92c3-4641f81b30b1"
      },
      "outputs": [
        {
          "output_type": "execute_result",
          "data": {
            "text/plain": [
              "(3213, 60, 5)"
            ]
          },
          "metadata": {},
          "execution_count": 124
        }
      ],
      "source": [
        "X_train = np.reshape(X_train, (3213, 60, 5))\n",
        "X_train.shape"
      ]
    },
    {
      "cell_type": "markdown",
      "metadata": {
        "id": "KTUOu3NCioec"
      },
      "source": [
        "# Construcción de la RNN"
      ]
    },
    {
      "cell_type": "code",
      "execution_count": 125,
      "metadata": {
        "id": "ibrjxfB_ioed"
      },
      "outputs": [],
      "source": [
        "from keras.models import Sequential\n",
        "from keras.layers import Dense, LSTM, Dropout"
      ]
    },
    {
      "cell_type": "markdown",
      "metadata": {
        "id": "MgWyCQaEioee"
      },
      "source": [
        "### Inicialización del la red"
      ]
    },
    {
      "cell_type": "code",
      "execution_count": 126,
      "metadata": {
        "id": "9ua2SgRKioef"
      },
      "outputs": [],
      "source": [
        "regressor = Sequential()"
      ]
    },
    {
      "cell_type": "markdown",
      "metadata": {
        "id": "zFO8ae4eioeg"
      },
      "source": [
        "### Añadir las capas  LSTM y  regularización por Dropout"
      ]
    },
    {
      "cell_type": "code",
      "execution_count": 127,
      "metadata": {
        "id": "S3R89dKvioei"
      },
      "outputs": [],
      "source": [
        "regressor.add(LSTM(units=50, return_sequences=True, input_shape=(X_train.shape[1], X_train.shape[2])))\n",
        "regressor.add(Dropout(rate=0.2))\n",
        "regressor.add(LSTM(units=50, return_sequences=True))\n",
        "regressor.add(Dropout(rate=0.2))\n",
        "regressor.add(LSTM(units=50, return_sequences=True))\n",
        "regressor.add(Dropout(rate=0.2))\n",
        "regressor.add(LSTM(units=50, return_sequences=True))\n",
        "regressor.add(Dropout(rate=0.2))\n",
        "regressor.add(LSTM(units=50, return_sequences=True))\n",
        "regressor.add(Dropout(rate=0.2))\n",
        "regressor.add(LSTM(units=50, return_sequences=False))\n",
        "regressor.add(Dropout(rate=0.2))"
      ]
    },
    {
      "cell_type": "markdown",
      "metadata": {
        "id": "Nu7uyNG1ioej"
      },
      "source": [
        "### Añadir la capa de salida"
      ]
    },
    {
      "cell_type": "code",
      "execution_count": 128,
      "metadata": {
        "id": "21LOxGSjioej"
      },
      "outputs": [],
      "source": [
        "regressor.add(Dense(units=1))"
      ]
    },
    {
      "cell_type": "markdown",
      "metadata": {
        "id": "iUQ-3gCZioek"
      },
      "source": [
        "### Compilar la RNN "
      ]
    },
    {
      "cell_type": "code",
      "execution_count": 129,
      "metadata": {
        "id": "RrFiCX9_ioel"
      },
      "outputs": [],
      "source": [
        "regressor.compile(optimizer='adam', loss='mean_squared_error')"
      ]
    },
    {
      "cell_type": "markdown",
      "metadata": {
        "id": "FoGd3wdOioel"
      },
      "source": [
        "### Entrenamiento de la Red Neuronal Recurrente"
      ]
    },
    {
      "cell_type": "code",
      "execution_count": 130,
      "metadata": {
        "scrolled": false,
        "colab": {
          "base_uri": "https://localhost:8080/"
        },
        "id": "FO2uY8DQioem",
        "outputId": "a2d20d20-0b90-4f47-bafc-0981263c49f9"
      },
      "outputs": [
        {
          "output_type": "stream",
          "name": "stdout",
          "text": [
            "Epoch 1/50\n",
            "101/101 [==============================] - 10s 21ms/step - loss: 0.0587\n",
            "Epoch 2/50\n",
            "101/101 [==============================] - 2s 20ms/step - loss: 0.0544\n",
            "Epoch 3/50\n",
            "101/101 [==============================] - 2s 19ms/step - loss: 0.0452\n",
            "Epoch 4/50\n",
            "101/101 [==============================] - 2s 19ms/step - loss: 0.0429\n",
            "Epoch 5/50\n",
            "101/101 [==============================] - 2s 19ms/step - loss: 0.0411\n",
            "Epoch 6/50\n",
            "101/101 [==============================] - 3s 28ms/step - loss: 0.0414\n",
            "Epoch 7/50\n",
            "101/101 [==============================] - 2s 23ms/step - loss: 0.0414\n",
            "Epoch 8/50\n",
            "101/101 [==============================] - 2s 19ms/step - loss: 0.0405\n",
            "Epoch 9/50\n",
            "101/101 [==============================] - 2s 20ms/step - loss: 0.0412\n",
            "Epoch 10/50\n",
            "101/101 [==============================] - 2s 20ms/step - loss: 0.0421\n",
            "Epoch 11/50\n",
            "101/101 [==============================] - 2s 20ms/step - loss: 0.0405\n",
            "Epoch 12/50\n",
            "101/101 [==============================] - 2s 20ms/step - loss: 0.0401\n",
            "Epoch 13/50\n",
            "101/101 [==============================] - 2s 20ms/step - loss: 0.0399\n",
            "Epoch 14/50\n",
            "101/101 [==============================] - 2s 19ms/step - loss: 0.0405\n",
            "Epoch 15/50\n",
            "101/101 [==============================] - 2s 19ms/step - loss: 0.0403\n",
            "Epoch 16/50\n",
            "101/101 [==============================] - 2s 19ms/step - loss: 0.0401\n",
            "Epoch 17/50\n",
            "101/101 [==============================] - 2s 19ms/step - loss: 0.0391\n",
            "Epoch 18/50\n",
            "101/101 [==============================] - 2s 19ms/step - loss: 0.0397\n",
            "Epoch 19/50\n",
            "101/101 [==============================] - 2s 19ms/step - loss: 0.0394\n",
            "Epoch 20/50\n",
            "101/101 [==============================] - 2s 19ms/step - loss: 0.0408\n",
            "Epoch 21/50\n",
            "101/101 [==============================] - 2s 19ms/step - loss: 0.0398\n",
            "Epoch 22/50\n",
            "101/101 [==============================] - 2s 19ms/step - loss: 0.0401\n",
            "Epoch 23/50\n",
            "101/101 [==============================] - 2s 19ms/step - loss: 0.0391\n",
            "Epoch 24/50\n",
            "101/101 [==============================] - 2s 20ms/step - loss: 0.0394\n",
            "Epoch 25/50\n",
            "101/101 [==============================] - 2s 20ms/step - loss: 0.0397\n",
            "Epoch 26/50\n",
            "101/101 [==============================] - 2s 20ms/step - loss: 0.0397\n",
            "Epoch 27/50\n",
            "101/101 [==============================] - 2s 20ms/step - loss: 0.0388\n",
            "Epoch 28/50\n",
            "101/101 [==============================] - 2s 22ms/step - loss: 0.0405\n",
            "Epoch 29/50\n",
            "101/101 [==============================] - 2s 23ms/step - loss: 0.0403\n",
            "Epoch 30/50\n",
            "101/101 [==============================] - 2s 19ms/step - loss: 0.0395\n",
            "Epoch 31/50\n",
            "101/101 [==============================] - 2s 20ms/step - loss: 0.0393\n",
            "Epoch 32/50\n",
            "101/101 [==============================] - 2s 19ms/step - loss: 0.0392\n",
            "Epoch 33/50\n",
            "101/101 [==============================] - 2s 19ms/step - loss: 0.0398\n",
            "Epoch 34/50\n",
            "101/101 [==============================] - 2s 19ms/step - loss: 0.0392\n",
            "Epoch 35/50\n",
            "101/101 [==============================] - 2s 19ms/step - loss: 0.0393\n",
            "Epoch 36/50\n",
            "101/101 [==============================] - 2s 19ms/step - loss: 0.0395\n",
            "Epoch 37/50\n",
            "101/101 [==============================] - 2s 19ms/step - loss: 0.0396\n",
            "Epoch 38/50\n",
            "101/101 [==============================] - 2s 20ms/step - loss: 0.0398\n",
            "Epoch 39/50\n",
            "101/101 [==============================] - 2s 20ms/step - loss: 0.0394\n",
            "Epoch 40/50\n",
            "101/101 [==============================] - 2s 19ms/step - loss: 0.0389\n",
            "Epoch 41/50\n",
            "101/101 [==============================] - 2s 20ms/step - loss: 0.0388\n",
            "Epoch 42/50\n",
            "101/101 [==============================] - 2s 19ms/step - loss: 0.0396\n",
            "Epoch 43/50\n",
            "101/101 [==============================] - 2s 19ms/step - loss: 0.0395\n",
            "Epoch 44/50\n",
            "101/101 [==============================] - 2s 20ms/step - loss: 0.0391\n",
            "Epoch 45/50\n",
            "101/101 [==============================] - 2s 20ms/step - loss: 0.0391\n",
            "Epoch 46/50\n",
            "101/101 [==============================] - 2s 19ms/step - loss: 0.0392\n",
            "Epoch 47/50\n",
            "101/101 [==============================] - 2s 19ms/step - loss: 0.0390\n",
            "Epoch 48/50\n",
            "101/101 [==============================] - 2s 19ms/step - loss: 0.0392\n",
            "Epoch 49/50\n",
            "101/101 [==============================] - 2s 19ms/step - loss: 0.0387\n",
            "Epoch 50/50\n",
            "101/101 [==============================] - 2s 19ms/step - loss: 0.0388\n"
          ]
        },
        {
          "output_type": "execute_result",
          "data": {
            "text/plain": [
              "<keras.callbacks.History at 0x7f8237655450>"
            ]
          },
          "metadata": {},
          "execution_count": 130
        }
      ],
      "source": [
        "regressor.fit(X_train, y_train, epochs=50, batch_size=32)"
      ]
    },
    {
      "cell_type": "code",
      "source": [
        "regressor.output_shape"
      ],
      "metadata": {
        "colab": {
          "base_uri": "https://localhost:8080/"
        },
        "id": "31LOuoIJ9reB",
        "outputId": "c838750e-7fda-47c3-bbd6-bc148d1bb9cf"
      },
      "execution_count": 131,
      "outputs": [
        {
          "output_type": "execute_result",
          "data": {
            "text/plain": [
              "(None, 1)"
            ]
          },
          "metadata": {},
          "execution_count": 131
        }
      ]
    },
    {
      "cell_type": "markdown",
      "metadata": {
        "id": "yC2Kpqrkioem"
      },
      "source": [
        "## Obtener el valor real de las acciones de enero de 2017 "
      ]
    },
    {
      "cell_type": "code",
      "execution_count": 132,
      "metadata": {
        "id": "E2scRi3Wioen"
      },
      "outputs": [],
      "source": [
        "\n",
        "data_test = pd.read_csv('/content/NASDAQ_test.csv')\n",
        "\n",
        "#remove colmn 'Adj Close'\n",
        "data_test = data_test.drop(['Date','Adj Close'], axis=1)\n",
        "\n",
        "#round all the values to 2 decimal places\n",
        "data_test = data_test.round(2)\n",
        "data_test.head()\n",
        "\n",
        "real_stock_price = data_test.loc[:, ['Open']].values"
      ]
    },
    {
      "cell_type": "code",
      "source": [
        "test_set_open = data_test.loc[:,['Open']].values\n",
        "test_set_high = data_test.loc[:,['High']].values\n",
        "test_set_low = data_test.loc[:,['Low']].values\n",
        "test_set_close = data_test.loc[:,['Close']].values\n",
        "test_set_volume = data_test.loc[:,['Volume']].values"
      ],
      "metadata": {
        "id": "lGq5JnkIxf1p"
      },
      "execution_count": 133,
      "outputs": []
    },
    {
      "cell_type": "code",
      "source": [
        "#normalizar los datos\n",
        "scaler = MinMaxScaler(feature_range=(0, 1))\n",
        "test_set_open_scaled = scaler.fit_transform(test_set_open)\n",
        "\n",
        "scaler_features = MinMaxScaler(feature_range=(0, 1))\n",
        "test_set_high_scaled = scaler_features.fit_transform(test_set_high)\n",
        "test_set_low_scaled = scaler_features.fit_transform(test_set_low)\n",
        "test_set_close_scaled = scaler_features.fit_transform(test_set_close)\n",
        "test_set_volume_scaled = scaler_features.fit_transform(test_set_volume)"
      ],
      "metadata": {
        "id": "tPxRxZ_5xfd7"
      },
      "execution_count": 134,
      "outputs": []
    },
    {
      "cell_type": "code",
      "source": [
        "X_test = []\n",
        "y_test = []\n",
        "\n",
        "for i in range(60, test_set_open_scaled.size):\n",
        "    X_test.append(test_set_open_scaled[i-60:i, 0])\n",
        "    y_test.append(test_set_open_scaled[i, 0])\n",
        "\n",
        "for i in range(60, test_set_high_scaled.size):\n",
        "    X_test.append(test_set_high_scaled[i-60:i, 0])\n",
        "\n",
        "for i in range(60, test_set_low_scaled.size):\n",
        "    X_test.append(test_set_low_scaled[i-60:i, 0])\n",
        "\n",
        "for i in range(60, test_set_close_scaled.size):\n",
        "    X_test.append(test_set_close_scaled[i-60:i, 0])\n",
        "\n",
        "for i in range(60, test_set_volume_scaled.size):\n",
        "    X_test.append(test_set_volume_scaled[i-60:i, 0])\n",
        "\n",
        "X_test, y_test = np.array(X_test), np.array(y_test)\n",
        "\n",
        "y_test.shape\n"
      ],
      "metadata": {
        "colab": {
          "base_uri": "https://localhost:8080/"
        },
        "id": "3u1oB8SnxfJ3",
        "outputId": "ff3a61ea-e535-4cbd-a67a-a88258944b4b"
      },
      "execution_count": 135,
      "outputs": [
        {
          "output_type": "execute_result",
          "data": {
            "text/plain": [
              "(104,)"
            ]
          },
          "metadata": {},
          "execution_count": 135
        }
      ]
    },
    {
      "cell_type": "code",
      "source": [
        "X_test = np.reshape(X_test, (104, 60, 5))\n",
        "X_test.shape"
      ],
      "metadata": {
        "colab": {
          "base_uri": "https://localhost:8080/"
        },
        "id": "UxoedZ8VysYY",
        "outputId": "b0feed2a-bf43-4f4c-f990-c90493f35798"
      },
      "execution_count": 136,
      "outputs": [
        {
          "output_type": "execute_result",
          "data": {
            "text/plain": [
              "(104, 60, 5)"
            ]
          },
          "metadata": {},
          "execution_count": 136
        }
      ]
    },
    {
      "cell_type": "markdown",
      "metadata": {
        "id": "Xov-a2q_ioeo"
      },
      "source": [
        "# Predecir el valor de las acciones"
      ]
    },
    {
      "cell_type": "markdown",
      "source": [
        ""
      ],
      "metadata": {
        "id": "4oMHPAGdzloL"
      }
    },
    {
      "cell_type": "markdown",
      "metadata": {
        "id": "6BN-lKtqioer"
      },
      "source": [
        "Creamos la estructura de datos como lo hicimos con los de entrenamiento, para los valores de testing."
      ]
    },
    {
      "cell_type": "markdown",
      "metadata": {
        "id": "HG3CtAERioet"
      },
      "source": [
        "Realizamos la predicción."
      ]
    },
    {
      "cell_type": "code",
      "source": [
        "# Prediccion de los valores del mes de enero \n",
        "predicted_stock_price = regressor.predict(X_test)\n"
      ],
      "metadata": {
        "id": "k6nAsrmh4IXA"
      },
      "execution_count": 144,
      "outputs": []
    },
    {
      "cell_type": "code",
      "execution_count": 138,
      "metadata": {
        "colab": {
          "base_uri": "https://localhost:8080/"
        },
        "id": "TER1WS_Dioet",
        "outputId": "2f3b48fe-4fc0-48ff-a234-e30cf4d3b2f9"
      },
      "outputs": [
        {
          "output_type": "execute_result",
          "data": {
            "text/plain": [
              "array([[12412.825 ],\n",
              "       [12414.566 ],\n",
              "       [12416.034 ],\n",
              "       [12417.141 ],\n",
              "       [12417.796 ],\n",
              "       [12417.705 ],\n",
              "       [12417.37  ],\n",
              "       [12416.45  ],\n",
              "       [12415.998 ],\n",
              "       [12416.001 ],\n",
              "       [12416.252 ],\n",
              "       [12415.894 ],\n",
              "       [12413.219 ],\n",
              "       [12409.963 ],\n",
              "       [12409.743 ],\n",
              "       [12413.05  ],\n",
              "       [12413.624 ],\n",
              "       [12419.166 ],\n",
              "       [12428.2705],\n",
              "       [12427.636 ],\n",
              "       [12421.732 ],\n",
              "       [12413.181 ],\n",
              "       [12414.873 ],\n",
              "       [12416.2   ],\n",
              "       [12417.239 ],\n",
              "       [12417.715 ],\n",
              "       [12417.533 ],\n",
              "       [12417.103 ],\n",
              "       [12416.479 ],\n",
              "       [12416.305 ],\n",
              "       [12416.235 ],\n",
              "       [12416.2   ],\n",
              "       [12415.526 ],\n",
              "       [12412.391 ],\n",
              "       [12409.538 ],\n",
              "       [12409.68  ],\n",
              "       [12411.567 ],\n",
              "       [12413.179 ],\n",
              "       [12419.991 ],\n",
              "       [12425.69  ],\n",
              "       [12423.253 ],\n",
              "       [12418.318 ],\n",
              "       [12413.981 ],\n",
              "       [12415.467 ],\n",
              "       [12416.595 ],\n",
              "       [12417.532 ],\n",
              "       [12417.732 ],\n",
              "       [12417.425 ],\n",
              "       [12416.575 ],\n",
              "       [12415.808 ],\n",
              "       [12415.807 ],\n",
              "       [12415.916 ],\n",
              "       [12416.074 ],\n",
              "       [12414.6455],\n",
              "       [12410.844 ],\n",
              "       [12409.06  ],\n",
              "       [12411.676 ],\n",
              "       [12413.271 ],\n",
              "       [12416.342 ],\n",
              "       [12426.663 ],\n",
              "       [12434.12  ],\n",
              "       [12427.349 ],\n",
              "       [12419.366 ],\n",
              "       [12414.349 ],\n",
              "       [12415.891 ],\n",
              "       [12417.094 ],\n",
              "       [12417.908 ],\n",
              "       [12417.945 ],\n",
              "       [12417.574 ],\n",
              "       [12416.584 ],\n",
              "       [12416.095 ],\n",
              "       [12416.36  ],\n",
              "       [12416.268 ],\n",
              "       [12416.504 ],\n",
              "       [12414.472 ],\n",
              "       [12410.672 ],\n",
              "       [12409.035 ],\n",
              "       [12411.001 ],\n",
              "       [12411.865 ],\n",
              "       [12415.352 ],\n",
              "       [12422.476 ],\n",
              "       [12426.398 ],\n",
              "       [12419.6875],\n",
              "       [12416.49  ],\n",
              "       [12516.344 ],\n",
              "       [12483.847 ],\n",
              "       [12497.912 ],\n",
              "       [12559.873 ],\n",
              "       [12576.201 ],\n",
              "       [12568.796 ],\n",
              "       [12540.935 ],\n",
              "       [12503.496 ],\n",
              "       [12467.514 ],\n",
              "       [12511.32  ],\n",
              "       [12552.844 ],\n",
              "       [12576.3125],\n",
              "       [12575.143 ],\n",
              "       [12563.718 ],\n",
              "       [12547.149 ],\n",
              "       [12528.634 ],\n",
              "       [12495.084 ],\n",
              "       [12469.373 ],\n",
              "       [12448.079 ],\n",
              "       [12445.75  ]], dtype=float32)"
            ]
          },
          "metadata": {},
          "execution_count": 138
        }
      ],
      "source": [
        "\n",
        "# revertimos la normalizacion para ver el \n",
        "predicted_stock_price = scaler.inverse_transform(predicted_stock_price)\n",
        "\n",
        "predicted_stock_price"
      ]
    },
    {
      "cell_type": "markdown",
      "metadata": {
        "id": "_qIJPorcioeu"
      },
      "source": [
        "# Visualizar los resultados"
      ]
    },
    {
      "cell_type": "code",
      "execution_count": 139,
      "metadata": {
        "colab": {
          "base_uri": "https://localhost:8080/",
          "height": 295
        },
        "id": "_kTOpg4gioeu",
        "outputId": "f517414f-e63c-4a11-e536-b25ad139838f"
      },
      "outputs": [
        {
          "output_type": "display_data",
          "data": {
            "text/plain": [
              "<Figure size 432x288 with 1 Axes>"
            ],
            "image/png": "[encoded data removed]"
          },
          "metadata": {
            "needs_background": "light"
          }
        }
      ],
      "source": [
        "plt.plot(real_stock_price, color = 'red', label = 'Real Google Stock Price')\n",
        "plt.plot(predicted_stock_price, color = 'blue', label = 'Predicted Google Stock Price')\n",
        "plt.title('Google Stock Price Prediction')\n",
        "plt.xlabel('Time')\n",
        "plt.ylabel('Google Stock Price')\n",
        "plt.legend()\n",
        "plt.show()"
      ]
    },
    {
      "cell_type": "code",
      "execution_count": 140,
      "metadata": {
        "id": "teKGUWnPioev"
      },
      "outputs": [],
      "source": [
        "from sklearn.metrics import mean_absolute_error, mean_squared_error"
      ]
    },
    {
      "cell_type": "markdown",
      "metadata": {
        "id": "_Rn6av3Qioev"
      },
      "source": [
        "Error absoluto medio de la predicción."
      ]
    },
    {
      "cell_type": "code",
      "execution_count": 141,
      "metadata": {
        "colab": {
          "base_uri": "https://localhost:8080/",
          "height": 311
        },
        "id": "1M0mttJ6ioew",
        "outputId": "005de91c-9e9c-4954-8326-6f931e3a5f5b"
      },
      "outputs": [
        {
          "output_type": "error",
          "ename": "ValueError",
          "evalue": "ignored",
          "traceback": [
            "\u001b[0;31m---------------------------------------------------------------------------\u001b[0m",
            "\u001b[0;31mValueError\u001b[0m                                Traceback (most recent call last)",
            "\u001b[0;32m<ipython-input-141-d54d006e019c>\u001b[0m in \u001b[0;36m<module>\u001b[0;34m()\u001b[0m\n\u001b[0;32m----> 1\u001b[0;31m \u001b[0mmean_absolute_error\u001b[0m\u001b[0;34m(\u001b[0m\u001b[0mpredicted_stock_price\u001b[0m\u001b[0;34m,\u001b[0m \u001b[0mreal_stock_price\u001b[0m\u001b[0;34m)\u001b[0m\u001b[0;34m\u001b[0m\u001b[0;34m\u001b[0m\u001b[0m\n\u001b[0m",
            "\u001b[0;32m/usr/local/lib/python3.7/dist-packages/sklearn/metrics/_regression.py\u001b[0m in \u001b[0;36mmean_absolute_error\u001b[0;34m(y_true, y_pred, sample_weight, multioutput)\u001b[0m\n\u001b[1;32m    190\u001b[0m     \"\"\"\n\u001b[1;32m    191\u001b[0m     y_type, y_true, y_pred, multioutput = _check_reg_targets(\n\u001b[0;32m--> 192\u001b[0;31m         \u001b[0my_true\u001b[0m\u001b[0;34m,\u001b[0m \u001b[0my_pred\u001b[0m\u001b[0;34m,\u001b[0m \u001b[0mmultioutput\u001b[0m\u001b[0;34m\u001b[0m\u001b[0;34m\u001b[0m\u001b[0m\n\u001b[0m\u001b[1;32m    193\u001b[0m     )\n\u001b[1;32m    194\u001b[0m     \u001b[0mcheck_consistent_length\u001b[0m\u001b[0;34m(\u001b[0m\u001b[0my_true\u001b[0m\u001b[0;34m,\u001b[0m \u001b[0my_pred\u001b[0m\u001b[0;34m,\u001b[0m \u001b[0msample_weight\u001b[0m\u001b[0;34m)\u001b[0m\u001b[0;34m\u001b[0m\u001b[0;34m\u001b[0m\u001b[0m\n",
            "\u001b[0;32m/usr/local/lib/python3.7/dist-packages/sklearn/metrics/_regression.py\u001b[0m in \u001b[0;36m_check_reg_targets\u001b[0;34m(y_true, y_pred, multioutput, dtype)\u001b[0m\n\u001b[1;32m     92\u001b[0m         \u001b[0mthe\u001b[0m \u001b[0mdtype\u001b[0m \u001b[0margument\u001b[0m \u001b[0mpassed\u001b[0m \u001b[0mto\u001b[0m \u001b[0mcheck_array\u001b[0m\u001b[0;34m.\u001b[0m\u001b[0;34m\u001b[0m\u001b[0;34m\u001b[0m\u001b[0m\n\u001b[1;32m     93\u001b[0m     \"\"\"\n\u001b[0;32m---> 94\u001b[0;31m     \u001b[0mcheck_consistent_length\u001b[0m\u001b[0;34m(\u001b[0m\u001b[0my_true\u001b[0m\u001b[0;34m,\u001b[0m \u001b[0my_pred\u001b[0m\u001b[0;34m)\u001b[0m\u001b[0;34m\u001b[0m\u001b[0;34m\u001b[0m\u001b[0m\n\u001b[0m\u001b[1;32m     95\u001b[0m     \u001b[0my_true\u001b[0m \u001b[0;34m=\u001b[0m \u001b[0mcheck_array\u001b[0m\u001b[0;34m(\u001b[0m\u001b[0my_true\u001b[0m\u001b[0;34m,\u001b[0m \u001b[0mensure_2d\u001b[0m\u001b[0;34m=\u001b[0m\u001b[0;32mFalse\u001b[0m\u001b[0;34m,\u001b[0m \u001b[0mdtype\u001b[0m\u001b[0;34m=\u001b[0m\u001b[0mdtype\u001b[0m\u001b[0;34m)\u001b[0m\u001b[0;34m\u001b[0m\u001b[0;34m\u001b[0m\u001b[0m\n\u001b[1;32m     96\u001b[0m     \u001b[0my_pred\u001b[0m \u001b[0;34m=\u001b[0m \u001b[0mcheck_array\u001b[0m\u001b[0;34m(\u001b[0m\u001b[0my_pred\u001b[0m\u001b[0;34m,\u001b[0m \u001b[0mensure_2d\u001b[0m\u001b[0;34m=\u001b[0m\u001b[0;32mFalse\u001b[0m\u001b[0;34m,\u001b[0m \u001b[0mdtype\u001b[0m\u001b[0;34m=\u001b[0m\u001b[0mdtype\u001b[0m\u001b[0;34m)\u001b[0m\u001b[0;34m\u001b[0m\u001b[0;34m\u001b[0m\u001b[0m\n",
            "\u001b[0;32m/usr/local/lib/python3.7/dist-packages/sklearn/utils/validation.py\u001b[0m in \u001b[0;36mcheck_consistent_length\u001b[0;34m(*arrays)\u001b[0m\n\u001b[1;32m    332\u001b[0m         raise ValueError(\n\u001b[1;32m    333\u001b[0m             \u001b[0;34m\"Found input variables with inconsistent numbers of samples: %r\"\u001b[0m\u001b[0;34m\u001b[0m\u001b[0;34m\u001b[0m\u001b[0m\n\u001b[0;32m--> 334\u001b[0;31m             \u001b[0;34m%\u001b[0m \u001b[0;34m[\u001b[0m\u001b[0mint\u001b[0m\u001b[0;34m(\u001b[0m\u001b[0ml\u001b[0m\u001b[0;34m)\u001b[0m \u001b[0;32mfor\u001b[0m \u001b[0ml\u001b[0m \u001b[0;32min\u001b[0m \u001b[0mlengths\u001b[0m\u001b[0;34m]\u001b[0m\u001b[0;34m\u001b[0m\u001b[0;34m\u001b[0m\u001b[0m\n\u001b[0m\u001b[1;32m    335\u001b[0m         )\n\u001b[1;32m    336\u001b[0m \u001b[0;34m\u001b[0m\u001b[0m\n",
            "\u001b[0;31mValueError\u001b[0m: Found input variables with inconsistent numbers of samples: [104, 164]"
          ]
        }
      ],
      "source": [
        "mean_absolute_error(predicted_stock_price, real_stock_price)"
      ]
    },
    {
      "cell_type": "markdown",
      "metadata": {
        "id": "v04Ir_xiioey"
      },
      "source": [
        "Valos promedio de las acciones el mes de Enero."
      ]
    },
    {
      "cell_type": "code",
      "execution_count": null,
      "metadata": {
        "id": "sNu5NLRFioey"
      },
      "outputs": [],
      "source": [
        "np.mean(real_stock_price)"
      ]
    },
    {
      "cell_type": "markdown",
      "metadata": {
        "id": "otH55yjrioez"
      },
      "source": [
        "El porcentaje de error sobre el valor de las acciones."
      ]
    },
    {
      "cell_type": "code",
      "execution_count": null,
      "metadata": {
        "id": "diJApboSioe0"
      },
      "outputs": [],
      "source": [
        "mean_absolute_error(predicted_stock_price, real_stock_price) / np.mean(real_stock_price)"
      ]
    },
    {
      "cell_type": "markdown",
      "metadata": {
        "id": "jxl3daugioe0"
      },
      "source": [
        "Calcularmos el rrror de cada dia de enero y lo graficamos."
      ]
    },
    {
      "cell_type": "code",
      "execution_count": null,
      "metadata": {
        "id": "Yv5L9va6ioe1"
      },
      "outputs": [],
      "source": [
        "error = predicted_stock_price - real_stock_price"
      ]
    },
    {
      "cell_type": "code",
      "execution_count": null,
      "metadata": {
        "id": "9qKzULF7ioe1"
      },
      "outputs": [],
      "source": [
        "plt.plot(error)\n",
        "plt.axhline(y=0, xmin=0, xmax=20, ls='--', color='k')\n",
        "plt.title('Trading Sistem')\n",
        "plt.xlabel('Time')\n",
        "plt.ylabel('Prediction error')"
      ]
    }
  ],
  "metadata": {
    "kernelspec": {
      "display_name": "Python 3.10.2 64-bit",
      "language": "python",
      "name": "python3"
    },
    "language_info": {
      "codemirror_mode": {
        "name": "ipython",
        "version": 3
      },
      "file_extension": ".py",
      "mimetype": "text/x-python",
      "name": "python",
      "nbconvert_exporter": "python",
      "pygments_lexer": "ipython3",
      "version": "3.10.2"
    },
    "vscode": {
      "interpreter": {
        "hash": "9cbb33fb0dd98d60d7542c1e0a8ec9389a1bc71302aaca21e62e688716f63114"
      }
    },
    "colab": {
      "name": "RNN_TP_FINAL.ipynb",
      "provenance": [],
      "collapsed_sections": [
        "MgWyCQaEioee",
        "zFO8ae4eioeg",
        "Nu7uyNG1ioej",
        "iUQ-3gCZioek",
        "FoGd3wdOioel"
      ],
      "include_colab_link": true
    },
    "accelerator": "GPU",
    "gpuClass": "standard"
  },
  "nbformat": 4,
  "nbformat_minor": 0
}