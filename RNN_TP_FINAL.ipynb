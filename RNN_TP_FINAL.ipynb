{
  "cells": [
    {
      "cell_type": "markdown",
      "metadata": {
        "id": "view-in-github",
        "colab_type": "text"
      },
      "source": [
        "<a href=\"https://colab.research.google.com/github/Alan-B525/TP_FINAL_IC2022/blob/main/RNN_TP_FINAL.ipynb\" target=\"_parent\"><img src=\"https://colab.research.google.com/assets/colab-badge.svg\" alt=\"Open In Colab\"/></a>"
      ]
    },
    {
      "cell_type": "markdown",
      "metadata": {
        "id": "Q3Gh7Glmiody"
      },
      "source": [
        "# Redes Neuronales Recurrentes"
      ]
    },
    {
      "cell_type": "code",
      "execution_count": 37,
      "metadata": {
        "id": "mBWYZgoxiod8"
      },
      "outputs": [],
      "source": [
        "import pandas as pd\n",
        "import numpy as np\n",
        "import matplotlib.pyplot as plt\n",
        "from sklearn.preprocessing import MinMaxScaler\n"
      ]
    },
    {
      "cell_type": "markdown",
      "metadata": {
        "id": "YEVWkONUioeB"
      },
      "source": [
        "# Preprocesado de datos"
      ]
    },
    {
      "cell_type": "markdown",
      "source": [
        "Funcion para preprocesamiento de los dataset"
      ],
      "metadata": {
        "id": "GEKJKwM3UABq"
      }
    },
    {
      "cell_type": "code",
      "source": [
        "scaler = MinMaxScaler( feature_range=(0, 1) )\n",
        "\n",
        "ve = 120\n"
      ],
      "metadata": {
        "id": "yJ8V9I09YCnF"
      },
      "execution_count": 38,
      "outputs": []
    },
    {
      "cell_type": "code",
      "source": [
        "\n",
        "def preprocessing(data):\n",
        "  data = data.drop(['Date','Adj Close'], axis=1)\n",
        "  data = data.round(2)\n",
        "\n",
        "  #transform dataframe to numpy array\n",
        "  data = data.values\n",
        "\n",
        "  #normalize data\n",
        "  data = scaler.fit_transform(data)\n",
        "\n",
        "  X_train = []\n",
        "  y_train = []\n",
        "\n",
        "  for i in range(ve, len(data)):\n",
        "      X_train.append(data[i-ve:i, :])\n",
        "      y_train.append(data[i, 0])\n",
        " \n",
        "  X_train, y_train = np.array(X_train), np.array(y_train)\n",
        "  \n",
        "\n",
        "\n",
        "  return X_train, y_train"
      ],
      "metadata": {
        "id": "Y_aodGU4rpoW"
      },
      "execution_count": 39,
      "outputs": []
    },
    {
      "cell_type": "code",
      "source": [
        "#importar datos\n",
        "dataset_train = pd.read_csv('NASDAQ_train.csv')\n",
        "\n",
        "#se llama la funcion de procesamiento\n",
        "X_train, y_train = preprocessing(dataset_train)\n"
      ],
      "metadata": {
        "id": "cxzQ-6tlUXkr"
      },
      "execution_count": 40,
      "outputs": []
    },
    {
      "cell_type": "markdown",
      "metadata": {
        "id": "KTUOu3NCioec"
      },
      "source": [
        "# Construcción de la RNN"
      ]
    },
    {
      "cell_type": "code",
      "execution_count": 41,
      "metadata": {
        "id": "ibrjxfB_ioed"
      },
      "outputs": [],
      "source": [
        "from keras.models import Sequential\n",
        "from keras.layers import Dense, LSTM, Dropout"
      ]
    },
    {
      "cell_type": "markdown",
      "metadata": {
        "id": "MgWyCQaEioee"
      },
      "source": [
        "### Inicialización del la red"
      ]
    },
    {
      "cell_type": "code",
      "execution_count": 42,
      "metadata": {
        "id": "9ua2SgRKioef"
      },
      "outputs": [],
      "source": [
        "regressor = Sequential()"
      ]
    },
    {
      "cell_type": "markdown",
      "metadata": {
        "id": "zFO8ae4eioeg"
      },
      "source": [
        "### Añadir las capas  LSTM y  regularización por Dropout"
      ]
    },
    {
      "cell_type": "code",
      "execution_count": 43,
      "metadata": {
        "id": "S3R89dKvioei"
      },
      "outputs": [],
      "source": [
        "regressor.add(LSTM(units=60, return_sequences=True, input_shape=(X_train.shape[1], X_train.shape[2])))\n",
        "regressor.add(Dropout(rate=0.2))\n",
        "regressor.add(LSTM(units=60, return_sequences=True))\n",
        "regressor.add(Dropout(rate=0.2))\n",
        "regressor.add(LSTM(units=60, return_sequences=True))\n",
        "regressor.add(Dropout(rate=0.2))\n",
        "regressor.add(LSTM(units=60, return_sequences=True))\n",
        "regressor.add(Dropout(rate=0.2))\n",
        "regressor.add(LSTM(units=60, return_sequences=True))\n",
        "regressor.add(Dropout(rate=0.2))\n",
        "regressor.add(LSTM(units=60, return_sequences=True))\n",
        "regressor.add(Dropout(rate=0.2))\n",
        "regressor.add(LSTM(units=60, return_sequences=True))\n",
        "regressor.add(Dropout(rate=0.2))\n",
        "regressor.add(LSTM(units=60, return_sequences=False))\n",
        "regressor.add(Dropout(rate=0.2))"
      ]
    },
    {
      "cell_type": "markdown",
      "metadata": {
        "id": "Nu7uyNG1ioej"
      },
      "source": [
        "### Añadir la capa de salida"
      ]
    },
    {
      "cell_type": "code",
      "execution_count": 44,
      "metadata": {
        "id": "21LOxGSjioej"
      },
      "outputs": [],
      "source": [
        "regressor.add(Dense(units=1))"
      ]
    },
    {
      "cell_type": "markdown",
      "metadata": {
        "id": "iUQ-3gCZioek"
      },
      "source": [
        "### Compilar la RNN "
      ]
    },
    {
      "cell_type": "code",
      "execution_count": 45,
      "metadata": {
        "id": "RrFiCX9_ioel"
      },
      "outputs": [],
      "source": [
        "regressor.compile(optimizer='adam', loss='mean_squared_error')"
      ]
    },
    {
      "cell_type": "markdown",
      "metadata": {
        "id": "FoGd3wdOioel"
      },
      "source": [
        "### Entrenamiento de la Red Neuronal Recurrente"
      ]
    },
    {
      "cell_type": "code",
      "execution_count": null,
      "metadata": {
        "scrolled": false,
        "id": "FO2uY8DQioem"
      },
      "outputs": [],
      "source": [
        "regressor.fit(X_train, y_train, epochs=50, batch_size=32, verbose=False)"
      ]
    },
    {
      "cell_type": "markdown",
      "metadata": {
        "id": "Xov-a2q_ioeo"
      },
      "source": [
        "# Predecir el valor de las acciones"
      ]
    },
    {
      "cell_type": "markdown",
      "metadata": {
        "id": "yC2Kpqrkioem"
      },
      "source": [
        "## Obtener el valor real de las acciones desde enero 22 a mayo 22\n"
      ]
    },
    {
      "cell_type": "code",
      "execution_count": null,
      "metadata": {
        "id": "E2scRi3Wioen"
      },
      "outputs": [],
      "source": [
        "\n",
        "dataset_test = pd.read_csv('NASDAQ_test.csv')\n",
        "\n",
        "X_test, y_test = preprocessing(dataset_test)\n",
        "\n",
        "real_stock_price = dataset_test.loc[ve:, ['Open']].values.round(2)\n",
        "\n"
      ]
    },
    {
      "cell_type": "markdown",
      "metadata": {
        "id": "HG3CtAERioet"
      },
      "source": [
        "Realizamos la predicción."
      ]
    },
    {
      "cell_type": "code",
      "source": [
        "# Prediccion de los valores del mes de enero \n",
        "predicted_stock_price = regressor.predict(X_test)\n"
      ],
      "metadata": {
        "id": "k6nAsrmh4IXA"
      },
      "execution_count": null,
      "outputs": []
    },
    {
      "cell_type": "markdown",
      "source": [
        "#Transformación de los precios"
      ],
      "metadata": {
        "id": "rwDNCUfeE5QL"
      }
    },
    {
      "cell_type": "code",
      "execution_count": null,
      "metadata": {
        "id": "TER1WS_Dioet"
      },
      "outputs": [],
      "source": [
        "price_t = []\n",
        "\n",
        "for i in range(len(predicted_stock_price)):\n",
        "    x = (predicted_stock_price[i,0]*(scaler.data_max_[0]-scaler.data_min_[0]))+scaler.data_min_[0]\n",
        "    price_t.append(x)\n"
      ]
    },
    {
      "cell_type": "markdown",
      "metadata": {
        "id": "_qIJPorcioeu"
      },
      "source": [
        "# Visualizar los resultados"
      ]
    },
    {
      "cell_type": "code",
      "execution_count": null,
      "metadata": {
        "id": "_kTOpg4gioeu"
      },
      "outputs": [],
      "source": [
        "plt.plot(real_stock_price, color = 'red', label = 'Real Stock Price')\n",
        "plt.plot(price_t, color = 'blue', label = 'Predicted Stock Price')\n",
        "plt.title('Price Prediction')\n",
        "plt.xlabel('Time')\n",
        "plt.ylabel('Stock Price')\n",
        "plt.legend()\n",
        "plt.show()"
      ]
    },
    {
      "cell_type": "code",
      "execution_count": null,
      "metadata": {
        "id": "teKGUWnPioev"
      },
      "outputs": [],
      "source": [
        "from sklearn.metrics import mean_absolute_error, mean_squared_error"
      ]
    },
    {
      "cell_type": "markdown",
      "metadata": {
        "id": "_Rn6av3Qioev"
      },
      "source": [
        "Error absoluto medio de la predicción."
      ]
    },
    {
      "cell_type": "code",
      "execution_count": null,
      "metadata": {
        "id": "1M0mttJ6ioew"
      },
      "outputs": [],
      "source": [
        "mean_absolute_error(predicted_stock_price, real_stock_price)"
      ]
    },
    {
      "cell_type": "markdown",
      "metadata": {
        "id": "v04Ir_xiioey"
      },
      "source": [
        "Valos promedio de las acciones el mes de Enero."
      ]
    },
    {
      "cell_type": "code",
      "execution_count": null,
      "metadata": {
        "id": "sNu5NLRFioey"
      },
      "outputs": [],
      "source": [
        "np.mean(real_stock_price)"
      ]
    },
    {
      "cell_type": "markdown",
      "metadata": {
        "id": "otH55yjrioez"
      },
      "source": [
        "El porcentaje de error sobre el valor de las acciones."
      ]
    },
    {
      "cell_type": "code",
      "execution_count": null,
      "metadata": {
        "id": "diJApboSioe0"
      },
      "outputs": [],
      "source": [
        "mean_absolute_error(predicted_stock_price, real_stock_price) / np.mean(real_stock_price)"
      ]
    },
    {
      "cell_type": "markdown",
      "metadata": {
        "id": "jxl3daugioe0"
      },
      "source": [
        "Calcularmos el rrror de cada dia de enero y lo graficamos."
      ]
    },
    {
      "cell_type": "code",
      "execution_count": null,
      "metadata": {
        "id": "Yv5L9va6ioe1"
      },
      "outputs": [],
      "source": [
        "error = predicted_stock_price - real_stock_price"
      ]
    },
    {
      "cell_type": "code",
      "execution_count": null,
      "metadata": {
        "id": "9qKzULF7ioe1"
      },
      "outputs": [],
      "source": [
        "plt.plot(error)\n",
        "plt.axhline(y=0, xmin=0, xmax=20, ls='--', color='k')\n",
        "plt.title('Trading Sistem')\n",
        "plt.xlabel('Time')\n",
        "plt.ylabel('Prediction error')"
      ]
    }
  ],
  "metadata": {
    "kernelspec": {
      "display_name": "Python 3.10.2 64-bit",
      "language": "python",
      "name": "python3"
    },
    "language_info": {
      "codemirror_mode": {
        "name": "ipython",
        "version": 3
      },
      "file_extension": ".py",
      "mimetype": "text/x-python",
      "name": "python",
      "nbconvert_exporter": "python",
      "pygments_lexer": "ipython3",
      "version": "3.10.2"
    },
    "vscode": {
      "interpreter": {
        "hash": "9cbb33fb0dd98d60d7542c1e0a8ec9389a1bc71302aaca21e62e688716f63114"
      }
    },
    "colab": {
      "name": "RNN_TP_FINAL.ipynb",
      "provenance": [],
      "collapsed_sections": [
        "MgWyCQaEioee",
        "zFO8ae4eioeg",
        "Nu7uyNG1ioej",
        "iUQ-3gCZioek",
        "FoGd3wdOioel"
      ],
      "include_colab_link": true
    },
    "accelerator": "GPU",
    "gpuClass": "standard"
  },
  "nbformat": 4,
  "nbformat_minor": 0
}