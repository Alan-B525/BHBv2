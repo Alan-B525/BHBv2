{
 "cells": [
  {
   "cell_type": "code",
   "execution_count": null,
   "metadata": {},
   "outputs": [],
   "source": [
    "import joblib\n",
    "import pandas as pd\n",
    "import numpy as np\n",
    "import matplotlib.pyplot as plt\n"
   ]
  },
  {
   "cell_type": "markdown",
   "metadata": {},
   "source": [
    "###   Importar Modelo entrenado"
   ]
  },
  {
   "cell_type": "code",
   "execution_count": null,
   "metadata": {},
   "outputs": [],
   "source": [
    "\n",
    "modelo = joblib.load('modelo_entrenado.plk')\n"
   ]
  },
  {
   "cell_type": "markdown",
   "metadata": {},
   "source": [
    "### Preprocesaniento de datos"
   ]
  },
  {
   "cell_type": "markdown",
   "metadata": {},
   "source": [
    "Cuando se llama a la función preprocessing se realiza una limpieza y transformacion de los datos\n",
    "luego de escalar los datos devuelve dos vectores con los datos para la prediccion"
   ]
  },
  {
   "cell_type": "code",
   "execution_count": null,
   "metadata": {},
   "outputs": [],
   "source": [
    "\n",
    "\n",
    "ve = 120\n",
    "scaler = MinMaxScaler( feature_range=(0, 1) )\n",
    "\n",
    "def preprocessing(data):\n",
    "  data = data.drop(['Date','Adj Close'], axis=1)\n",
    "  data = data.round(2)\n",
    "\n",
    "  #transform dataframe to numpy array\n",
    "  data = data.values\n",
    "\n",
    "  #normalize data\n",
    "  data = scaler.fit_transform(data)\n",
    "\n",
    "  X_train = []\n",
    "  y_train = []\n",
    "\n",
    "  for i in range(ve, len(data)):\n",
    "      X_train.append(data[i-ve:i, :])\n",
    "      y_train.append(data[i, 0])\n",
    " \n",
    "  X_train, y_train = np.array(X_train), np.array(y_train)\n",
    "  \n",
    "\n",
    "\n",
    "  return X_train, y_train\n",
    "\n"
   ]
  },
  {
   "cell_type": "markdown",
   "metadata": {},
   "source": [
    "### Lectura de los datos y predicción"
   ]
  },
  {
   "cell_type": "code",
   "execution_count": null,
   "metadata": {},
   "outputs": [],
   "source": [
    "\n",
    "df = pd.read_csv('AMZN.csv')\n",
    "\n",
    "X_df, y_df = preprocessing(df)\n",
    "\n",
    "real = df.loc[ve:, ['Open']].values.round(2)\n",
    "\n",
    "nnr = modelo.predict(X_df)\n",
    "\n",
    "\n",
    "nnr_list = []\n",
    "\n",
    "for i in range(len(nnr)):\n",
    "    x = (nnr[i,0]*(scaler.data_max_[0]-scaler.data_min_[0]))+scaler.data_min_[0]\n",
    "    nnr_list.append(x)\n",
    "\n"
   ]
  },
  {
   "cell_type": "markdown",
   "metadata": {},
   "source": [
    "### Contrastación de los datos predichos respecto a los datos reales"
   ]
  },
  {
   "cell_type": "code",
   "execution_count": null,
   "metadata": {},
   "outputs": [],
   "source": [
    "\n",
    "\n",
    "plt.plot(real, color = 'red', label = 'Real Stock Price')\n",
    "plt.plot(nnr_list, color = 'blue', label = 'Predicted Stock Price')\n",
    "plt.title('Price Prediction')\n",
    "plt.xlabel('Time')\n",
    "plt.ylabel('Stock Price')\n",
    "plt.legend()\n",
    "plt.show()\n"
   ]
  }
 ],
 "metadata": {
  "language_info": {
   "name": "python"
  },
  "orig_nbformat": 4
 },
 "nbformat": 4,
 "nbformat_minor": 2
}
